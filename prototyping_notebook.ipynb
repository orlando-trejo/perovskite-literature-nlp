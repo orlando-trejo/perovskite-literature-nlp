{
 "cells": [
  {
   "cell_type": "code",
   "execution_count": 2,
   "metadata": {},
   "outputs": [],
   "source": [
    "# Import libraries\n",
    "import docx\n",
    "import pandas as pd\n",
    "import numpy as np\n",
    "import spacy\n",
    "from spacy import displacy\n",
    "import scispacy\n",
    "nlp = spacy.load(\"en_core_sci_lg\")\n",
    "from spacy import displacy\n",
    "from spacy.matcher import Matcher, PhraseMatcher\n",
    "from spacy.tokens import Doc, Span, Token\n",
    "from summa import summarizer\n",
    "import matplotlib.pyplot as plt\n",
    "import os\n",
    "from sklearn.decomposition import PCA\n",
    "import benepar\n",
    "from benepar.spacy_plugin import BeneparComponent\n",
    "nlp.add_pipe(BeneparComponent(\"benepar_en2\"))\n",
    "import networkx as nx"
   ]
  },
  {
   "cell_type": "code",
   "execution_count": 3,
   "metadata": {},
   "outputs": [],
   "source": [
    "text = 'Amorphous oxide semiconductors (AOSs)—ternary or quaternary oxides of post‐transition metals such as In‐Sn‐O, Zn‐Sn‐O, or In‐Ga‐Zn‐O—have been known for a decade and have attracted a great deal of attention as they possess several technological advantages, including low‐temperature large‐area deposition, mechanical flexibility, smooth surfaces, and high carrier mobility that is an order of magnitude larger than that of amorphous silicon (a‐Si:H). Compared to their crystalline counterparts, the structure of AOSs is extremely sensitive to deposition conditions, stoichiometry, and composition, giving rise to a wide range of tunable optical and electrical properties. The large parameter space and the resulting complex deposition–structure–property relationships in AOSs make the currently available theoretical and experimental research data rather scattered and the design of new materials difficult. In this work, the key properties of several In‐based AOSs are studied as a function of cooling rates, oxygen stoichiometry, cation composition, or lattice strain. Based on a thorough comparison of the results of ab initio modeling, comprehensive structural analysis, accurate property calculations, and systematic experimental measurements, a four‐dimensional parameter space for AOSs is derived, serving as a solid foundation for property optimization in known AOSs and for design of next‐generation transparent amorphous semiconductors.'"
   ]
  },
  {
   "cell_type": "code",
   "execution_count": 4,
   "metadata": {},
   "outputs": [],
   "source": [
    "text2 = 'Self-organization is a property of dissipative nonlinear processes that are governed  by a global driving force and a local positive feedback  mechanism, which  createsregular geometric and/or temporal patterns, and decreases the entropy locally, in contrast torandom processes. Here we investigate for the first time a comprehensive number of self-organization processes that operate in planetary physics, solar physics, stellar physics,galactic physics, and cosmology. Self-organizing systems create spontaneous “order out of randomness”, during the evolution from an initially disordered system to an ordered quasi-stationary system, mostly by quasi-periodic limit-cycle dynamics, but also by harmonic (me-chanical or gyromagnetic) resonances. The global driving force can be due to gravity, elec-tromagnetic forces, mechanical forces (e.g., rotation or differential rotation), thermal pressure, or acceleration of nonthermal particles, while the positive feedback mechanism is often an instability, such as the magneto-rotational (Balbus-Hawley) instability, the convective(Rayleigh-Bénard) instability, turbulence, vortex attraction, magnetic reconnection, plasmacondensation, or a loss-cone instability. Physical models of astrophysical self-organizationprocesses require hydrodynamic, magneto-hydrodynamic (MHD), plasma, or N-body simu-lations. Analytical formulations of self-organizing systems generally involve coupled differential equations with limit-cycle solutions of the Lotka-Volterra or Hopf-bifurcation type.'"
   ]
  },
  {
   "cell_type": "code",
   "execution_count": 5,
   "metadata": {},
   "outputs": [
    {
     "data": {
      "text/html": [
       "<span class=\"tex2jax_ignore\"><svg xmlns=\"http://www.w3.org/2000/svg\" xmlns:xlink=\"http://www.w3.org/1999/xlink\" xml:lang=\"en\" id=\"f920a4b489994848885e299f119749be-0\" class=\"displacy\" width=\"750\" height=\"312.0\" direction=\"ltr\" style=\"max-width: none; height: 312.0px; color: #000000; background: #ffffff; font-family: Arial; direction: ltr\">\n",
       "<text class=\"displacy-token\" fill=\"currentColor\" text-anchor=\"middle\" y=\"222.0\">\n",
       "    <tspan class=\"displacy-word\" fill=\"currentColor\" x=\"50\">This</tspan>\n",
       "    <tspan class=\"displacy-tag\" dy=\"2em\" fill=\"currentColor\" x=\"50\">DET</tspan>\n",
       "</text>\n",
       "\n",
       "<text class=\"displacy-token\" fill=\"currentColor\" text-anchor=\"middle\" y=\"222.0\">\n",
       "    <tspan class=\"displacy-word\" fill=\"currentColor\" x=\"225\">is</tspan>\n",
       "    <tspan class=\"displacy-tag\" dy=\"2em\" fill=\"currentColor\" x=\"225\">AUX</tspan>\n",
       "</text>\n",
       "\n",
       "<text class=\"displacy-token\" fill=\"currentColor\" text-anchor=\"middle\" y=\"222.0\">\n",
       "    <tspan class=\"displacy-word\" fill=\"currentColor\" x=\"400\">a</tspan>\n",
       "    <tspan class=\"displacy-tag\" dy=\"2em\" fill=\"currentColor\" x=\"400\">DET</tspan>\n",
       "</text>\n",
       "\n",
       "<text class=\"displacy-token\" fill=\"currentColor\" text-anchor=\"middle\" y=\"222.0\">\n",
       "    <tspan class=\"displacy-word\" fill=\"currentColor\" x=\"575\">sentence.</tspan>\n",
       "    <tspan class=\"displacy-tag\" dy=\"2em\" fill=\"currentColor\" x=\"575\">NOUN</tspan>\n",
       "</text>\n",
       "\n",
       "<g class=\"displacy-arrow\">\n",
       "    <path class=\"displacy-arc\" id=\"arrow-f920a4b489994848885e299f119749be-0-0\" stroke-width=\"2px\" d=\"M70,177.0 C70,89.5 220.0,89.5 220.0,177.0\" fill=\"none\" stroke=\"currentColor\"/>\n",
       "    <text dy=\"1.25em\" style=\"font-size: 0.8em; letter-spacing: 1px\">\n",
       "        <textPath xlink:href=\"#arrow-f920a4b489994848885e299f119749be-0-0\" class=\"displacy-label\" startOffset=\"50%\" side=\"left\" fill=\"currentColor\" text-anchor=\"middle\">nsubj</textPath>\n",
       "    </text>\n",
       "    <path class=\"displacy-arrowhead\" d=\"M70,179.0 L62,167.0 78,167.0\" fill=\"currentColor\"/>\n",
       "</g>\n",
       "\n",
       "<g class=\"displacy-arrow\">\n",
       "    <path class=\"displacy-arc\" id=\"arrow-f920a4b489994848885e299f119749be-0-1\" stroke-width=\"2px\" d=\"M420,177.0 C420,89.5 570.0,89.5 570.0,177.0\" fill=\"none\" stroke=\"currentColor\"/>\n",
       "    <text dy=\"1.25em\" style=\"font-size: 0.8em; letter-spacing: 1px\">\n",
       "        <textPath xlink:href=\"#arrow-f920a4b489994848885e299f119749be-0-1\" class=\"displacy-label\" startOffset=\"50%\" side=\"left\" fill=\"currentColor\" text-anchor=\"middle\">det</textPath>\n",
       "    </text>\n",
       "    <path class=\"displacy-arrowhead\" d=\"M420,179.0 L412,167.0 428,167.0\" fill=\"currentColor\"/>\n",
       "</g>\n",
       "\n",
       "<g class=\"displacy-arrow\">\n",
       "    <path class=\"displacy-arc\" id=\"arrow-f920a4b489994848885e299f119749be-0-2\" stroke-width=\"2px\" d=\"M245,177.0 C245,2.0 575.0,2.0 575.0,177.0\" fill=\"none\" stroke=\"currentColor\"/>\n",
       "    <text dy=\"1.25em\" style=\"font-size: 0.8em; letter-spacing: 1px\">\n",
       "        <textPath xlink:href=\"#arrow-f920a4b489994848885e299f119749be-0-2\" class=\"displacy-label\" startOffset=\"50%\" side=\"left\" fill=\"currentColor\" text-anchor=\"middle\">attr</textPath>\n",
       "    </text>\n",
       "    <path class=\"displacy-arrowhead\" d=\"M575.0,179.0 L583.0,167.0 567.0,167.0\" fill=\"currentColor\"/>\n",
       "</g>\n",
       "</svg></span>"
      ],
      "text/plain": [
       "<IPython.core.display.HTML object>"
      ]
     },
     "metadata": {},
     "output_type": "display_data"
    }
   ],
   "source": [
    "doc = nlp(\"This is a sentence.\")\n",
    "displacy.render(doc, style=\"dep\")"
   ]
  },
  {
   "cell_type": "code",
   "execution_count": 6,
   "metadata": {},
   "outputs": [
    {
     "name": "stdout",
     "output_type": "stream",
     "text": [
      "(S (NP (DT This)) (VP (VBZ is) (NP (DT a) (NN sentence))) (. .))\n"
     ]
    }
   ],
   "source": [
    "doc = nlp(u\"This is a sentence. It's never too late to do something.\")\n",
    "sent = list(doc.sents)[0]\n",
    "print(sent._.parse_string)\n",
    "\n",
    "#(S (NP (NP (DT The) (NN time)) (PP (IN for) (NP (NN action)))) (VP (VBZ is) (ADVP (RB now))) (. .))"
   ]
  },
  {
   "cell_type": "code",
   "execution_count": 7,
   "metadata": {},
   "outputs": [],
   "source": [
    "doc = nlp(text)\n",
    "sents = list(doc.sents)"
   ]
  },
  {
   "cell_type": "code",
   "execution_count": 8,
   "metadata": {},
   "outputs": [],
   "source": [
    "# Get strucutre information from parantheses\n",
    "def parenthetic_contents(string):\n",
    "    \"\"\"Generate parenthesized contents in string as pairs (level, contents).\n",
    "    \n",
    "    Inputs: string of text with parantheses\n",
    "    Output: tuples with level and contents\n",
    "    \n",
    "    Ref: https://stackoverflow.com/questions/4284991/\n",
    "    parsing-nested-parentheses-in-python-grab-content-by-level\n",
    "    \"\"\"\n",
    "    stack = []\n",
    "    for i, c in enumerate(string):\n",
    "        if c == '(':\n",
    "            stack.append(i)\n",
    "        elif c == ')' and stack:\n",
    "            start = stack.pop()\n",
    "            yield (len(stack), string[start + 1: i])\n",
    "            "
   ]
  },
  {
   "cell_type": "code",
   "execution_count": 9,
   "metadata": {},
   "outputs": [],
   "source": [
    "def get_sent_vp(parsed_sent):\n",
    "    '''\n",
    "    Function to get the main VP of a sentence that is \n",
    "    parsed in parantheses format.\n",
    "    \n",
    "    Inputs: List of tuples\n",
    "    Output: String in parantheses\n",
    "    '''\n",
    "    for element in parsed_sent:\n",
    "        if 1 in element:\n",
    "            if element[1][0:2]=='VP':\n",
    "                return element[1]"
   ]
  },
  {
   "cell_type": "code",
   "execution_count": 10,
   "metadata": {},
   "outputs": [],
   "source": [
    "sent_vps = []\n",
    "\n",
    "for sent in sents:\n",
    "    sent_vp = get_sent_vp(list(parenthetic_contents(sent._.parse_string)))\n",
    "    sent_vps.append(sent_vp)"
   ]
  },
  {
   "cell_type": "code",
   "execution_count": 11,
   "metadata": {},
   "outputs": [],
   "source": [
    "sub_sent_vps = []\n",
    "for sent_vp in sent_vps:\n",
    "    sub_sent_vp = list(parenthetic_contents(sent_vp))\n",
    "    sub_sent_vps.append(sub_sent_vp)"
   ]
  },
  {
   "cell_type": "code",
   "execution_count": 12,
   "metadata": {},
   "outputs": [
    {
     "name": "stdout",
     "output_type": "stream",
     "text": [
      "(0, 'VBZ is')\n",
      "(0, 'ADJP (RB extremely) (JJ sensitive) (PP (TO to) (NP (NP (NN deposition) (NNS conditions)) (, ,) (NP (NN stoichiometry)) (, ,) (CC and) (NP (NN composition))))')\n",
      "(0, ', ,')\n",
      "(0, 'S (VP (VBG giving) (NP (NN rise)) (PP (TO to) (NP (NP (DT a) (JJ wide) (NN range)) (PP (IN of) (NP (JJ tunable) (ADJP (JJ optical) (CC and) (JJ electrical)) (NNS properties))))))')\n"
     ]
    }
   ],
   "source": [
    "for sub_sent_vp in sub_sent_vps[1:2]:\n",
    "    for sub_sent in sub_sent_vp:\n",
    "        if sub_sent[0] == 0:\n",
    "            print(sub_sent)"
   ]
  },
  {
   "cell_type": "code",
   "execution_count": 13,
   "metadata": {},
   "outputs": [
    {
     "name": "stdout",
     "output_type": "stream",
     "text": [
      "(0, 'VBP make')\n",
      "(0, 'S (S (NP (DT the) (ADJP (ADJP (RB currently) (JJ available)) (UCP (JJ theoretical) (CC and) (JJ experimental))) (NN research) (NNS data)) (ADJP (RB rather) (VBN scattered))) (CC and) (S (NP (NP (DT the) (NN design)) (PP (IN of) (NP (JJ new) (NNS materials)))) (ADJP (JJ difficult)))')\n"
     ]
    }
   ],
   "source": [
    "for sub_sent_vp in sub_sent_vps[2:3]:\n",
    "    for sub_sent in sub_sent_vp:\n",
    "        if sub_sent[0] == 0:\n",
    "            print(sub_sent)"
   ]
  },
  {
   "cell_type": "code",
   "execution_count": 14,
   "metadata": {},
   "outputs": [
    {
     "name": "stdout",
     "output_type": "stream",
     "text": [
      "(0, 'VBP are')\n",
      "(0, 'VP (VBN studied) (PP (IN as) (NP (NP (DT a) (NN function)) (PP (IN of) (NP (NP (VBG cooling) (NNS rates)) (, ,) (NP (NN oxygen) (NN stoichiometry)) (, ,) (NP (NN cation) (NN composition)) (, ,) (CC or) (NP (NN lattice) (NN strain))))))')\n"
     ]
    }
   ],
   "source": [
    "for sub_sent_vp in sub_sent_vps[3:4]:\n",
    "    for sub_sent in sub_sent_vp:\n",
    "        if sub_sent[0] == 0:\n",
    "            print(sub_sent)"
   ]
  },
  {
   "cell_type": "code",
   "execution_count": 15,
   "metadata": {},
   "outputs": [
    {
     "name": "stdout",
     "output_type": "stream",
     "text": [
      "(0, 'VBZ is')\n",
      "(0, 'VP (VBN derived) (, ,) (S (VP (VBG serving) (PP (IN as) (NP (NP (DT a) (JJ solid) (NN foundation)) (PP (PP (IN for) (NP (NP (NN property) (NN optimization)) (PP (IN in) (NP (VBN known) (NNP AOSs))))) (CC and) (PP (IN for) (NP (NP (NN design)) (PP (IN of) (NP (NN next‐generation) (JJ transparent) (JJ amorphous) (NNS semiconductors))))))))))')\n"
     ]
    }
   ],
   "source": [
    "for sub_sent_vp in sub_sent_vps[4:5]:\n",
    "    for sub_sent in sub_sent_vp:\n",
    "        if sub_sent[0] == 0:\n",
    "            print(sub_sent)"
   ]
  },
  {
   "cell_type": "code",
   "execution_count": 46,
   "metadata": {},
   "outputs": [],
   "source": [
    "edges = []\n",
    "next_subs = []\n",
    "for sub_sent_vp in sub_sent_vps[4:5]:\n",
    "    for sub_sent in sub_sent_vp:\n",
    "        if sub_sent[0] == 0 and sub_sent[1][0:2] == 'VB':\n",
    "            edges.append(sub_sent[1])\n",
    "        elif sub_sent[0] == 0 and sub_sent[1][0:2] != 'VB':\n",
    "            next_subs.append(sub_sent[1])"
   ]
  },
  {
   "cell_type": "code",
   "execution_count": 47,
   "metadata": {},
   "outputs": [
    {
     "name": "stdout",
     "output_type": "stream",
     "text": [
      "['VBZ is']\n"
     ]
    }
   ],
   "source": [
    "print(edges)"
   ]
  },
  {
   "cell_type": "code",
   "execution_count": 71,
   "metadata": {},
   "outputs": [
    {
     "name": "stdout",
     "output_type": "stream",
     "text": [
      "VBN derived\n",
      "S (VP (VBG serving) (PP (IN as) (NP (NP (DT a) (JJ solid) (NN foundation)) (PP (PP (IN for) (NP (NP (NN property) (NN optimization)) (PP (IN in) (NP (VBN known) (NNP AOSs))))) (CC and) (PP (IN for) (NP (NP (NN design)) (PP (IN of) (NP (NN next‐generation) (JJ transparent) (JJ amorphous) (NNS semiconductors)))))))))\n"
     ]
    }
   ],
   "source": [
    "next_nodes = []\n",
    "for sub in next_subs:\n",
    "    strng = list(parenthetic_contents(sub))\n",
    "    for level in strng:\n",
    "        if level[0] == 0:\n",
    "            if level[1][0:1] != 'S' or ', ,' not in level[1]:\n",
    "                print(level[1])"
   ]
  },
  {
   "cell_type": "code",
   "execution_count": 17,
   "metadata": {},
   "outputs": [],
   "source": [
    "string = sent._.parse_string"
   ]
  },
  {
   "cell_type": "code",
   "execution_count": 18,
   "metadata": {},
   "outputs": [],
   "source": [
    "# Get main noun phrase for a sentence\n",
    "def get_sent_np(parsed_sent):\n",
    "    '''\n",
    "    Function to get the main NP of a sentence that is \n",
    "    parsed in parantheses format.\n",
    "    \n",
    "    Inputs: List of tuples\n",
    "    Output: String in parantheses\n",
    "    '''\n",
    "    for element in parsed_sent:\n",
    "        if 1 in element:\n",
    "            if element[1][0:2]=='NP':\n",
    "                return element[1]"
   ]
  },
  {
   "cell_type": "code",
   "execution_count": 19,
   "metadata": {},
   "outputs": [],
   "source": [
    "parsed_sent = list(parenthetic_contents(string))"
   ]
  },
  {
   "cell_type": "code",
   "execution_count": 20,
   "metadata": {},
   "outputs": [
    {
     "name": "stdout",
     "output_type": "stream",
     "text": [
      "NP (NP (DT a) (JJ four‐dimensional) (NN parameter) (NN space)) (PP (IN for) (NP (NNP AOSs)))\n"
     ]
    }
   ],
   "source": [
    "sent_np = get_sent_np(parsed_sent)\n",
    "print(sent_np)"
   ]
  },
  {
   "cell_type": "code",
   "execution_count": 21,
   "metadata": {},
   "outputs": [
    {
     "name": "stdout",
     "output_type": "stream",
     "text": [
      "VP (VBZ is) (VP (VBN derived) (, ,) (S (VP (VBG serving) (PP (IN as) (NP (NP (DT a) (JJ solid) (NN foundation)) (PP (PP (IN for) (NP (NP (NN property) (NN optimization)) (PP (IN in) (NP (VBN known) (NNP AOSs))))) (CC and) (PP (IN for) (NP (NP (NN design)) (PP (IN of) (NP (NN next‐generation) (JJ transparent) (JJ amorphous) (NNS semiconductors)))))))))))\n"
     ]
    }
   ],
   "source": [
    "sent_vp = get_sent_vp(parsed_sent)\n",
    "print(sent_vp)"
   ]
  },
  {
   "cell_type": "code",
   "execution_count": 22,
   "metadata": {},
   "outputs": [
    {
     "data": {
      "text/plain": [
       "'VBZ is'"
      ]
     },
     "execution_count": 22,
     "metadata": {},
     "output_type": "execute_result"
    }
   ],
   "source": [
    "subs_of_vp = list(parenthetic_contents(sent_vp))\n",
    "\n",
    "subs_of_vp[0][1]"
   ]
  },
  {
   "cell_type": "code",
   "execution_count": 23,
   "metadata": {},
   "outputs": [
    {
     "name": "stdout",
     "output_type": "stream",
     "text": [
      "VP (VBN derived) (, ,) (S (VP (VBG serving) (PP (IN as) (NP (NP (DT a) (JJ solid) (NN foundation)) (PP (PP (IN for) (NP (NP (NN property) (NN optimization)) (PP (IN in) (NP (VBN known) (NNP AOSs))))) (CC and) (PP (IN for) (NP (NP (NN design)) (PP (IN of) (NP (NN next‐generation) (JJ transparent) (JJ amorphous) (NNS semiconductors))))))))))\n"
     ]
    }
   ],
   "source": [
    "np_in_vp = []\n",
    "for element in subs_of_vp:\n",
    "    if 0 in element:\n",
    "        if 'NP' in element[1]:\n",
    "            np_in_vp.append(element[1])\n",
    "            print(element[1])"
   ]
  },
  {
   "cell_type": "code",
   "execution_count": 24,
   "metadata": {},
   "outputs": [
    {
     "name": "stdout",
     "output_type": "stream",
     "text": [
      "[(0, 'VBN derived'), (0, ', ,'), (2, 'VBG serving'), (3, 'IN as'), (5, 'DT a'), (5, 'JJ solid'), (5, 'NN foundation'), (4, 'NP (DT a) (JJ solid) (NN foundation)'), (6, 'IN for'), (8, 'NN property'), (8, 'NN optimization'), (7, 'NP (NN property) (NN optimization)'), (8, 'IN in'), (9, 'VBN known'), (9, 'NNP AOSs'), (8, 'NP (VBN known) (NNP AOSs)'), (7, 'PP (IN in) (NP (VBN known) (NNP AOSs))'), (6, 'NP (NP (NN property) (NN optimization)) (PP (IN in) (NP (VBN known) (NNP AOSs)))'), (5, 'PP (IN for) (NP (NP (NN property) (NN optimization)) (PP (IN in) (NP (VBN known) (NNP AOSs))))'), (5, 'CC and'), (6, 'IN for'), (8, 'NN design'), (7, 'NP (NN design)'), (8, 'IN of'), (9, 'NN next‐generation'), (9, 'JJ transparent'), (9, 'JJ amorphous'), (9, 'NNS semiconductors'), (8, 'NP (NN next‐generation) (JJ transparent) (JJ amorphous) (NNS semiconductors)'), (7, 'PP (IN of) (NP (NN next‐generation) (JJ transparent) (JJ amorphous) (NNS semiconductors))'), (6, 'NP (NP (NN design)) (PP (IN of) (NP (NN next‐generation) (JJ transparent) (JJ amorphous) (NNS semiconductors)))'), (5, 'PP (IN for) (NP (NP (NN design)) (PP (IN of) (NP (NN next‐generation) (JJ transparent) (JJ amorphous) (NNS semiconductors))))'), (4, 'PP (PP (IN for) (NP (NP (NN property) (NN optimization)) (PP (IN in) (NP (VBN known) (NNP AOSs))))) (CC and) (PP (IN for) (NP (NP (NN design)) (PP (IN of) (NP (NN next‐generation) (JJ transparent) (JJ amorphous) (NNS semiconductors)))))'), (3, 'NP (NP (DT a) (JJ solid) (NN foundation)) (PP (PP (IN for) (NP (NP (NN property) (NN optimization)) (PP (IN in) (NP (VBN known) (NNP AOSs))))) (CC and) (PP (IN for) (NP (NP (NN design)) (PP (IN of) (NP (NN next‐generation) (JJ transparent) (JJ amorphous) (NNS semiconductors))))))'), (2, 'PP (IN as) (NP (NP (DT a) (JJ solid) (NN foundation)) (PP (PP (IN for) (NP (NP (NN property) (NN optimization)) (PP (IN in) (NP (VBN known) (NNP AOSs))))) (CC and) (PP (IN for) (NP (NP (NN design)) (PP (IN of) (NP (NN next‐generation) (JJ transparent) (JJ amorphous) (NNS semiconductors)))))))'), (1, 'VP (VBG serving) (PP (IN as) (NP (NP (DT a) (JJ solid) (NN foundation)) (PP (PP (IN for) (NP (NP (NN property) (NN optimization)) (PP (IN in) (NP (VBN known) (NNP AOSs))))) (CC and) (PP (IN for) (NP (NP (NN design)) (PP (IN of) (NP (NN next‐generation) (JJ transparent) (JJ amorphous) (NNS semiconductors))))))))'), (0, 'S (VP (VBG serving) (PP (IN as) (NP (NP (DT a) (JJ solid) (NN foundation)) (PP (PP (IN for) (NP (NP (NN property) (NN optimization)) (PP (IN in) (NP (VBN known) (NNP AOSs))))) (CC and) (PP (IN for) (NP (NP (NN design)) (PP (IN of) (NP (NN next‐generation) (JJ transparent) (JJ amorphous) (NNS semiconductors)))))))))')]\n"
     ]
    }
   ],
   "source": [
    "subs_of_vp = list(parenthetic_contents(np_in_vp[0]))\n",
    "print(subs_of_vp)"
   ]
  },
  {
   "cell_type": "code",
   "execution_count": 25,
   "metadata": {},
   "outputs": [
    {
     "name": "stdout",
     "output_type": "stream",
     "text": [
      "S (VP (VBG serving) (PP (IN as) (NP (NP (DT a) (JJ solid) (NN foundation)) (PP (PP (IN for) (NP (NP (NN property) (NN optimization)) (PP (IN in) (NP (VBN known) (NNP AOSs))))) (CC and) (PP (IN for) (NP (NP (NN design)) (PP (IN of) (NP (NN next‐generation) (JJ transparent) (JJ amorphous) (NNS semiconductors)))))))))\n"
     ]
    }
   ],
   "source": [
    "np_in_vp = []\n",
    "for element in subs_of_vp:\n",
    "    if 0 in element:\n",
    "        if 'NP' in element[1]:\n",
    "            np_in_vp.append(element[1])\n",
    "            print(element[1])"
   ]
  },
  {
   "cell_type": "code",
   "execution_count": 26,
   "metadata": {},
   "outputs": [
    {
     "data": {
      "text/plain": [
       "[(1, 'VBG serving'),\n",
       " (2, 'IN as'),\n",
       " (4, 'DT a'),\n",
       " (4, 'JJ solid'),\n",
       " (4, 'NN foundation'),\n",
       " (3, 'NP (DT a) (JJ solid) (NN foundation)'),\n",
       " (5, 'IN for'),\n",
       " (7, 'NN property'),\n",
       " (7, 'NN optimization'),\n",
       " (6, 'NP (NN property) (NN optimization)'),\n",
       " (7, 'IN in'),\n",
       " (8, 'VBN known'),\n",
       " (8, 'NNP AOSs'),\n",
       " (7, 'NP (VBN known) (NNP AOSs)'),\n",
       " (6, 'PP (IN in) (NP (VBN known) (NNP AOSs))'),\n",
       " (5,\n",
       "  'NP (NP (NN property) (NN optimization)) (PP (IN in) (NP (VBN known) (NNP AOSs)))'),\n",
       " (4,\n",
       "  'PP (IN for) (NP (NP (NN property) (NN optimization)) (PP (IN in) (NP (VBN known) (NNP AOSs))))'),\n",
       " (4, 'CC and'),\n",
       " (5, 'IN for'),\n",
       " (7, 'NN design'),\n",
       " (6, 'NP (NN design)'),\n",
       " (7, 'IN of'),\n",
       " (8, 'NN next‐generation'),\n",
       " (8, 'JJ transparent'),\n",
       " (8, 'JJ amorphous'),\n",
       " (8, 'NNS semiconductors'),\n",
       " (7,\n",
       "  'NP (NN next‐generation) (JJ transparent) (JJ amorphous) (NNS semiconductors)'),\n",
       " (6,\n",
       "  'PP (IN of) (NP (NN next‐generation) (JJ transparent) (JJ amorphous) (NNS semiconductors))'),\n",
       " (5,\n",
       "  'NP (NP (NN design)) (PP (IN of) (NP (NN next‐generation) (JJ transparent) (JJ amorphous) (NNS semiconductors)))'),\n",
       " (4,\n",
       "  'PP (IN for) (NP (NP (NN design)) (PP (IN of) (NP (NN next‐generation) (JJ transparent) (JJ amorphous) (NNS semiconductors))))'),\n",
       " (3,\n",
       "  'PP (PP (IN for) (NP (NP (NN property) (NN optimization)) (PP (IN in) (NP (VBN known) (NNP AOSs))))) (CC and) (PP (IN for) (NP (NP (NN design)) (PP (IN of) (NP (NN next‐generation) (JJ transparent) (JJ amorphous) (NNS semiconductors)))))'),\n",
       " (2,\n",
       "  'NP (NP (DT a) (JJ solid) (NN foundation)) (PP (PP (IN for) (NP (NP (NN property) (NN optimization)) (PP (IN in) (NP (VBN known) (NNP AOSs))))) (CC and) (PP (IN for) (NP (NP (NN design)) (PP (IN of) (NP (NN next‐generation) (JJ transparent) (JJ amorphous) (NNS semiconductors))))))'),\n",
       " (1,\n",
       "  'PP (IN as) (NP (NP (DT a) (JJ solid) (NN foundation)) (PP (PP (IN for) (NP (NP (NN property) (NN optimization)) (PP (IN in) (NP (VBN known) (NNP AOSs))))) (CC and) (PP (IN for) (NP (NP (NN design)) (PP (IN of) (NP (NN next‐generation) (JJ transparent) (JJ amorphous) (NNS semiconductors)))))))'),\n",
       " (0,\n",
       "  'VP (VBG serving) (PP (IN as) (NP (NP (DT a) (JJ solid) (NN foundation)) (PP (PP (IN for) (NP (NP (NN property) (NN optimization)) (PP (IN in) (NP (VBN known) (NNP AOSs))))) (CC and) (PP (IN for) (NP (NP (NN design)) (PP (IN of) (NP (NN next‐generation) (JJ transparent) (JJ amorphous) (NNS semiconductors))))))))')]"
      ]
     },
     "execution_count": 26,
     "metadata": {},
     "output_type": "execute_result"
    }
   ],
   "source": [
    "list(parenthetic_contents(np_in_vp[0]))"
   ]
  },
  {
   "cell_type": "code",
   "execution_count": 27,
   "metadata": {},
   "outputs": [
    {
     "name": "stdout",
     "output_type": "stream",
     "text": [
      "[(1, 'VBG serving'), (2, 'IN as'), (4, 'DT a'), (4, 'JJ solid'), (4, 'NN foundation'), (3, 'NP (DT a) (JJ solid) (NN foundation)'), (5, 'IN for'), (7, 'NN property'), (7, 'NN optimization'), (6, 'NP (NN property) (NN optimization)'), (7, 'IN in'), (8, 'VBN known'), (8, 'NNP AOSs'), (7, 'NP (VBN known) (NNP AOSs)'), (6, 'PP (IN in) (NP (VBN known) (NNP AOSs))'), (5, 'NP (NP (NN property) (NN optimization)) (PP (IN in) (NP (VBN known) (NNP AOSs)))'), (4, 'PP (IN for) (NP (NP (NN property) (NN optimization)) (PP (IN in) (NP (VBN known) (NNP AOSs))))'), (4, 'CC and'), (5, 'IN for'), (7, 'NN design'), (6, 'NP (NN design)'), (7, 'IN of'), (8, 'NN next‐generation'), (8, 'JJ transparent'), (8, 'JJ amorphous'), (8, 'NNS semiconductors'), (7, 'NP (NN next‐generation) (JJ transparent) (JJ amorphous) (NNS semiconductors)'), (6, 'PP (IN of) (NP (NN next‐generation) (JJ transparent) (JJ amorphous) (NNS semiconductors))'), (5, 'NP (NP (NN design)) (PP (IN of) (NP (NN next‐generation) (JJ transparent) (JJ amorphous) (NNS semiconductors)))'), (4, 'PP (IN for) (NP (NP (NN design)) (PP (IN of) (NP (NN next‐generation) (JJ transparent) (JJ amorphous) (NNS semiconductors))))'), (3, 'PP (PP (IN for) (NP (NP (NN property) (NN optimization)) (PP (IN in) (NP (VBN known) (NNP AOSs))))) (CC and) (PP (IN for) (NP (NP (NN design)) (PP (IN of) (NP (NN next‐generation) (JJ transparent) (JJ amorphous) (NNS semiconductors)))))'), (2, 'NP (NP (DT a) (JJ solid) (NN foundation)) (PP (PP (IN for) (NP (NP (NN property) (NN optimization)) (PP (IN in) (NP (VBN known) (NNP AOSs))))) (CC and) (PP (IN for) (NP (NP (NN design)) (PP (IN of) (NP (NN next‐generation) (JJ transparent) (JJ amorphous) (NNS semiconductors))))))'), (1, 'PP (IN as) (NP (NP (DT a) (JJ solid) (NN foundation)) (PP (PP (IN for) (NP (NP (NN property) (NN optimization)) (PP (IN in) (NP (VBN known) (NNP AOSs))))) (CC and) (PP (IN for) (NP (NP (NN design)) (PP (IN of) (NP (NN next‐generation) (JJ transparent) (JJ amorphous) (NNS semiconductors)))))))'), (0, 'VP (VBG serving) (PP (IN as) (NP (NP (DT a) (JJ solid) (NN foundation)) (PP (PP (IN for) (NP (NP (NN property) (NN optimization)) (PP (IN in) (NP (VBN known) (NNP AOSs))))) (CC and) (PP (IN for) (NP (NP (NN design)) (PP (IN of) (NP (NN next‐generation) (JJ transparent) (JJ amorphous) (NNS semiconductors))))))))')]\n"
     ]
    }
   ],
   "source": [
    "subs_of_vp = list(parenthetic_contents(np_in_vp[0]))\n",
    "print(subs_of_vp)"
   ]
  },
  {
   "cell_type": "code",
   "execution_count": 28,
   "metadata": {},
   "outputs": [
    {
     "name": "stdout",
     "output_type": "stream",
     "text": [
      "VP (VBG serving) (PP (IN as) (NP (NP (DT a) (JJ solid) (NN foundation)) (PP (PP (IN for) (NP (NP (NN property) (NN optimization)) (PP (IN in) (NP (VBN known) (NNP AOSs))))) (CC and) (PP (IN for) (NP (NP (NN design)) (PP (IN of) (NP (NN next‐generation) (JJ transparent) (JJ amorphous) (NNS semiconductors))))))))\n"
     ]
    }
   ],
   "source": [
    "np_in_vp = []\n",
    "for element in subs_of_vp:\n",
    "    if 0 in element:\n",
    "        if 'NP' in element[1]:\n",
    "            np_in_vp.append(element[1])\n",
    "            print(element[1])"
   ]
  },
  {
   "cell_type": "code",
   "execution_count": 29,
   "metadata": {},
   "outputs": [
    {
     "data": {
      "text/plain": [
       "'VP (VBG serving) (PP (IN as) (NP (NP (DT a) (JJ solid) (NN foundation)) (PP (PP (IN for) (NP (NP (NN property) (NN optimization)) (PP (IN in) (NP (VBN known) (NNP AOSs))))) (CC and) (PP (IN for) (NP (NP (NN design)) (PP (IN of) (NP (NN next‐generation) (JJ transparent) (JJ amorphous) (NNS semiconductors))))))))'"
      ]
     },
     "execution_count": 29,
     "metadata": {},
     "output_type": "execute_result"
    }
   ],
   "source": [
    "np_in_vp[0]"
   ]
  },
  {
   "cell_type": "code",
   "execution_count": 30,
   "metadata": {},
   "outputs": [
    {
     "ename": "NameError",
     "evalue": "name 'get_top_np' is not defined",
     "output_type": "error",
     "traceback": [
      "\u001b[0;31m---------------------------------------------------------------------------\u001b[0m",
      "\u001b[0;31mNameError\u001b[0m                                 Traceback (most recent call last)",
      "\u001b[0;32m<ipython-input-30-362073a5d8e9>\u001b[0m in \u001b[0;36m<module>\u001b[0;34m\u001b[0m\n\u001b[0;32m----> 1\u001b[0;31m \u001b[0mget_top_np\u001b[0m\u001b[0;34m(\u001b[0m\u001b[0mnp_in_vp\u001b[0m\u001b[0;34m[\u001b[0m\u001b[0;36m0\u001b[0m\u001b[0;34m]\u001b[0m\u001b[0;34m)\u001b[0m\u001b[0;34m\u001b[0m\u001b[0;34m\u001b[0m\u001b[0m\n\u001b[0m",
      "\u001b[0;31mNameError\u001b[0m: name 'get_top_np' is not defined"
     ]
    }
   ],
   "source": [
    "get_top_np(np_in_vp[0])"
   ]
  },
  {
   "cell_type": "code",
   "execution_count": 31,
   "metadata": {},
   "outputs": [],
   "source": [
    "# Get main subject for a sentence\n",
    "def get_top_np(string):\n",
    "    '''\n",
    "    Recursive function to get the top most NP from\n",
    "    the main NP of a sentence.\n",
    "    \n",
    "    Inputs: String of main NP in a sentence\n",
    "    Output: Top most NP of a sentence in string format\n",
    "    '''\n",
    "    \n",
    "    # Base case\n",
    "    if string.count('NP') == 1:\n",
    "        return string\n",
    "    \n",
    "    # Generate tuples from parantheses\n",
    "    contents = parenthetic_contents(string)\n",
    "\n",
    "    # Get top most NP    \n",
    "    for element in contents:\n",
    "        if 0 in element:\n",
    "            return get_top_np(element[1])\n"
   ]
  },
  {
   "cell_type": "code",
   "execution_count": 32,
   "metadata": {},
   "outputs": [],
   "source": [
    "def get_words(string):\n",
    "    '''\n",
    "    Function to get the words from a string with POS and\n",
    "    words in parantheses.\n",
    "    \n",
    "    Inputs: String of POS and words in tuples.\n",
    "    Output: String of words in lowercase\n",
    "    '''\n",
    "    \n",
    "    # Create list of tuples\n",
    "    parsed_string = list(parenthetic_contents(string))\n",
    "    \n",
    "    # Collect and format words\n",
    "    words = ''\n",
    "    for node in parsed_string:\n",
    "        words += ' ' + node[1].split(' ')[1]\n",
    "    return words[1:].lower()"
   ]
  },
  {
   "cell_type": "code",
   "execution_count": 33,
   "metadata": {},
   "outputs": [
    {
     "data": {
      "text/plain": [
       "'NP (DT a) (JJ four‐dimensional) (NN parameter) (NN space)'"
      ]
     },
     "execution_count": 33,
     "metadata": {},
     "output_type": "execute_result"
    }
   ],
   "source": [
    "get_top_np(sent_np)"
   ]
  },
  {
   "cell_type": "code",
   "execution_count": 34,
   "metadata": {},
   "outputs": [
    {
     "data": {
      "text/plain": [
       "Based on a thorough comparison of the results of ab initio modeling, comprehensive structural analysis, accurate property calculations, and systematic experimental measurements, a four‐dimensional parameter space for AOSs is derived, serving as a solid foundation for property optimization in known AOSs and for design of next‐generation transparent amorphous semiconductors."
      ]
     },
     "execution_count": 34,
     "metadata": {},
     "output_type": "execute_result"
    }
   ],
   "source": [
    "sent"
   ]
  },
  {
   "cell_type": "markdown",
   "metadata": {},
   "source": [
    "## Get the main nodes of a paragraph\n",
    "Here the subject of each setence is a node."
   ]
  },
  {
   "cell_type": "code",
   "execution_count": 29,
   "metadata": {},
   "outputs": [],
   "source": [
    "def get_nodes(text):\n",
    "    '''\n",
    "    Function that finds the main NP of each paragraph and\n",
    "    returns them in a list to be used as nodes.\n",
    "    \n",
    "    Inputs: string of paragraph text\n",
    "    Output: list of nodes\n",
    "    '''\n",
    "    \n",
    "    # Create spacy doc\n",
    "    doc = nlp(text)\n",
    "    \n",
    "    # Get sentences as list\n",
    "    sentences = list(doc.sents)\n",
    "    \n",
    "    # Initiate list of nodes\n",
    "    nodes = []\n",
    "    \n",
    "    for sentence in sentences:\n",
    "        string = sentence._.parse_string\n",
    "        parsed_sent = list(parenthetic_contents(string))\n",
    "        sent_np = get_sent_np(parsed_sent)\n",
    "        nodes.append(get_words(get_top_np(sent_np)))\n",
    "    \n",
    "    return nodes"
   ]
  },
  {
   "cell_type": "code",
   "execution_count": 30,
   "metadata": {},
   "outputs": [],
   "source": [
    "nodes = get_nodes(text)"
   ]
  },
  {
   "cell_type": "code",
   "execution_count": 31,
   "metadata": {},
   "outputs": [
    {
     "data": {
      "text/plain": [
       "['amorphous oxide semiconductors',\n",
       " 'the structure',\n",
       " 'the large parameter space',\n",
       " 'the key properties',\n",
       " 'a four‐dimensional parameter space']"
      ]
     },
     "execution_count": 31,
     "metadata": {},
     "output_type": "execute_result"
    }
   ],
   "source": [
    "nodes"
   ]
  },
  {
   "cell_type": "markdown",
   "metadata": {},
   "source": [
    "## Make simple graph using nodes"
   ]
  },
  {
   "cell_type": "code",
   "execution_count": 32,
   "metadata": {},
   "outputs": [
    {
     "data": {
      "image/png": "[encoded data removed]",
      "text/plain": [
       "<Figure size 432x288 with 1 Axes>"
      ]
     },
     "metadata": {},
     "output_type": "display_data"
    }
   ],
   "source": [
    "G = nx.Graph()\n",
    "\n",
    "G=nx.Graph()\n",
    "\n",
    "# adding a list of nodes\n",
    "G.add_nodes_from([1,2,3,4,5])\n",
    "\n",
    "# adding a list of edges:\n",
    "G.add_edges_from([(1,2), (1,3), (1,4), (1,5)])\n",
    "\n",
    "labels = {1:nodes[0], 2:nodes[1], 3:nodes[2], 4:nodes[3], 5:nodes[4]}\n",
    "nx.draw(G, node_size=1000, node_color='cyan', labels=labels, with_labels=True)\n",
    "\n",
    "\n",
    "plt.axis('off')\n",
    "axis = plt.gca()\n",
    "axis.set_xlim([1.4*x for x in axis.get_xlim()])\n",
    "axis.set_ylim([1.5*y for y in axis.get_ylim()])\n",
    "#plt.tight_layout()\n",
    "\n",
    "\n",
    "plt.savefig(\"simple_path.png\", dpi=300, bbox_inches='tight') # save as png\n",
    "plt.show() # display"
   ]
  },
  {
   "cell_type": "code",
   "execution_count": 37,
   "metadata": {},
   "outputs": [
    {
     "name": "stdout",
     "output_type": "stream",
     "text": [
      "Tom:NP\n",
      "SUBJECT: ['Tom']\n",
      "drinks:VF\n",
      "VERB ['drinks']\n",
      "milk:NN\n",
      "OBJECT ['milk']\n",
      "plays:VF\n",
      "VERB ['drinks', 'plays']\n",
      "cricket:NN\n",
      "OBJECT ['milk', 'cricket']\n",
      "ate:VF\n",
      "VERB ['drinks', 'plays', 'ate']\n",
      "rice:NN\n",
      "OBJECT ['milk', 'cricket', 'rice']\n",
      "Tom:NP\n",
      "SUBJECT: ['Tom', 'Tom']\n",
      "drinks:VF\n",
      "VERB ['drinks', 'plays', 'ate', 'drinks']\n",
      "milk:NN\n",
      "OBJECT ['milk', 'cricket', 'rice', 'milk']\n",
      "plays:VF\n",
      "VERB ['drinks', 'plays', 'ate', 'drinks', 'plays']\n",
      "cricket:NN\n",
      "OBJECT ['milk', 'cricket', 'rice', 'milk', 'cricket']\n",
      "ate:VF\n",
      "VERB ['drinks', 'plays', 'ate', 'drinks', 'plays', 'ate']\n",
      "rice:NN\n",
      "OBJECT ['milk', 'cricket', 'rice', 'milk', 'cricket', 'rice']\n",
      "Tom:NP\n",
      "SUBJECT: ['Tom', 'Tom', 'Tom']\n",
      "drinks:VF\n",
      "VERB ['drinks', 'plays', 'ate', 'drinks', 'plays', 'ate', 'drinks']\n",
      "milk:NN\n",
      "OBJECT ['milk', 'cricket', 'rice', 'milk', 'cricket', 'rice', 'milk']\n",
      "plays:VF\n",
      "VERB ['drinks', 'plays', 'ate', 'drinks', 'plays', 'ate', 'drinks', 'plays']\n",
      "cricket:NN\n",
      "OBJECT ['milk', 'cricket', 'rice', 'milk', 'cricket', 'rice', 'milk', 'cricket']\n",
      "ate:VF\n",
      "VERB ['drinks', 'plays', 'ate', 'drinks', 'plays', 'ate', 'drinks', 'plays', 'ate']\n",
      "rice:NN\n",
      "OBJECT ['milk', 'cricket', 'rice', 'milk', 'cricket', 'rice', 'milk', 'cricket', 'rice']\n"
     ]
    },
    {
     "data": {
      "image/png": "[encoded data removed]",
      "text/plain": [
       "<Figure size 432x288 with 1 Axes>"
      ]
     },
     "metadata": {},
     "output_type": "display_data"
    }
   ],
   "source": [
    "sentence_list=['Tom drinks milk', 'Tom plays cricket', 'Tom ate rice']\n",
    "\n",
    "tag_list=['Tom:NP','drinks:VF','milk:NN','plays:VF','cricket:NN','ate:VF','rice:NN']\n",
    "subject_list=[]\n",
    "object_list=[]\n",
    "verb_list=[]\n",
    "\n",
    "newDict = {}\n",
    "for sent in sentence_list:\n",
    "   for line in tag_list:\n",
    "       print (line)\n",
    "       k,v = line.strip().split(':')\n",
    "       newDict[k.strip()] = v.strip()\n",
    "       if v=='NP':\n",
    "          subject_list.append(k)\n",
    "          print('SUBJECT:',subject_list)\n",
    "       elif v=='NN':\n",
    "          object_list.append(k)\n",
    "          print('OBJECT',object_list)                 \n",
    "       elif v=='VF':\n",
    "        verb_list.append(k)\n",
    "        print('VERB',verb_list)\n",
    "\n",
    "\n",
    "\n",
    "\n",
    "labels={}\n",
    "graph = nx.Graph()\n",
    "\n",
    "for subject in subject_list:\n",
    "    s=(subject)\n",
    "    graph.add_node(s)\n",
    "    labels[s]=s\n",
    "\n",
    "\n",
    "for obj in object_list:\n",
    "    b=obj\n",
    "    graph.add_node(b)\n",
    "    labels[b]=b\n",
    "\n",
    "for verb in verb_list:\n",
    "    v=verb\n",
    "    graph.add_node(v)\n",
    "    labels[v]=v\n",
    "\n",
    "graph.add_edge(subject_list[0],object_list[0])\n",
    "graph.add_edge(object_list[0],verb_list[0])\n",
    "\n",
    "graph.add_edge(subject_list[1],object_list[1])\n",
    "graph.add_edge(object_list[1],verb_list[1])\n",
    "pos=nx.spring_layout(graph)\n",
    "nx.draw_networkx(graph, pos=pos, labels=labels)\n",
    "plt.show()\n"
   ]
  },
  {
   "cell_type": "markdown",
   "metadata": {},
   "source": [
    "## Manual parsing using parantheses "
   ]
  },
  {
   "cell_type": "code",
   "execution_count": 33,
   "metadata": {},
   "outputs": [
    {
     "ename": "SyntaxError",
     "evalue": "invalid syntax (<ipython-input-33-831865185e46>, line 5)",
     "output_type": "error",
     "traceback": [
      "\u001b[0;36m  File \u001b[0;32m\"<ipython-input-33-831865185e46>\"\u001b[0;36m, line \u001b[0;32m5\u001b[0m\n\u001b[0;31m    (NP (JJ Amorphous) (NN oxide) (NNS semiconductors))\u001b[0m\n\u001b[0m                    ^\u001b[0m\n\u001b[0;31mSyntaxError\u001b[0m\u001b[0;31m:\u001b[0m invalid syntax\n"
     ]
    }
   ],
   "source": [
    "# 0 sentence\n",
    "(S \n",
    " (NP \n",
    "  (NP \n",
    "   (NP (JJ Amorphous) (NN oxide) (NNS semiconductors)) \n",
    "   (JJ (AOSs)—ternary) \n",
    "   (CC or) \n",
    "   (JJ quaternary) \n",
    "   (NNS oxides)\n",
    "  ) \n",
    "  (PP (IN of) (NP (NP (NN post‐transition) (NNS metals)) \n",
    "               (PP (JJ such) (IN as) \n",
    "                (NNP In‐Sn‐O) (, ,) \n",
    "                (NNP Zn‐Sn‐O) (, ,) \n",
    "                (CC or) \n",
    "                (NP (NNP In‐Ga‐Zn‐O)) (, —)\n",
    "               )\n",
    "              )\n",
    "  )\n",
    " )\n",
    " \n",
    " (VP \n",
    "  (VP (VBP have) (VP (VBN been) (VP (VBN known) (PP (IN for) (NP (DT a) (NN decade)))))) \n",
    "  (CC and) \n",
    "  (VP \n",
    "   (VBP have) \n",
    "   (VP \n",
    "    (VBN attracted) \n",
    "    (NP (NP (DT a) (JJ great) (NN deal)) (PP (IN of) (NP (NN attention))))\n",
    "    (SBAR \n",
    "     (IN as) \n",
    "     (S \n",
    "      (NP (PRP they)) \n",
    "      (VP (VBP possess) \n",
    "       (NP \n",
    "        (NP (JJ several) (JJ technological) (NNS advantages)) (, ,) \n",
    "        (PP \n",
    "         (VBG including) \n",
    "         (NP (NP (NN low‐temperature)) (NN large‐area) (NN deposition)) (, ,) \n",
    "         (NP (JJ mechanical) (NN flexibility)) (, ,) \n",
    "         (NP (JJ smooth) (NNS surfaces)) (, ,) \n",
    "         (CC and) \n",
    "         (NP \n",
    "          (NP (JJ high) (NN carrier) (NN mobility)) \n",
    "          (SBAR \n",
    "           (WHNP (WDT that)) \n",
    "           (S \n",
    "            (VP \n",
    "             (VBZ is) \n",
    "             (ADJP \n",
    "              (ADJP \n",
    "               (NP (DT an) (NN order)) \n",
    "               (PP (IN of) (NP (NN magnitude))) \n",
    "               (ADJP (JJR larger))\n",
    "              ) \n",
    "              (PP \n",
    "               (IN than) \n",
    "               (NP \n",
    "                (NP (DT that)) \n",
    "                (PP \n",
    "                 (IN of) \n",
    "                 (NP \n",
    "                  (NP (JJ amorphous) (NN silicon)) \n",
    "                  (PRN \n",
    "                   (-LRB- -LRB-) \n",
    "                   (NP (JJ a‐Si) (. :) (NN H))\n",
    "                   (-RRB- -RRB-)\n",
    "                  )\n",
    "                 )\n",
    "                )\n",
    "               )\n",
    "              )\n",
    "             )\n",
    "            )\n",
    "           )\n",
    "          )\n",
    "         )\n",
    "        )\n",
    "       )\n",
    "      )\n",
    "     )\n",
    "    )\n",
    "   )\n",
    "  )\n",
    " ) \n",
    " (. .)\n",
    ")"
   ]
  },
  {
   "cell_type": "code",
   "execution_count": null,
   "metadata": {},
   "outputs": [],
   "source": [
    "# 1 sentence\n",
    "(S \n",
    " (PP (VBN Compared) (PP (TO to) (NP (PRP$ their) (JJ crystalline) (NNS counterparts)))) (, ,) \n",
    " (NP (NP (DT the) (NN structure)) (PP (IN of) (NP (NNP AOSs)))) \n",
    " (VP (VBZ is) \n",
    "  (ADJP (RB extremely) (JJ sensitive) \n",
    "               (PP (TO to) (NP \n",
    "                            (NP (NN deposition) (NNS conditions)) (, ,) \n",
    "                            (NP (NN stoichiometry)) (, ,) (CC and) \n",
    "                            (NP (NN composition))))) (, ,) \n",
    "  (S (VP (VBG giving) (NP (NN rise)) \n",
    "      (PP (TO to) (NP (NP (DT a) (JJ wide) (NN range)) \n",
    "                   (PP (IN of) \n",
    "                    (NP (JJ tunable) (ADJP (JJ optical) (CC and) (JJ electrical)) (NNS properties))\n",
    "                   )\n",
    "                  )\n",
    "      )\n",
    "     )\n",
    "  )\n",
    " ) \n",
    " (. .)\n",
    ")\n",
    "\n"
   ]
  },
  {
   "cell_type": "code",
   "execution_count": null,
   "metadata": {},
   "outputs": [],
   "source": []
  }
 ],
 "metadata": {
  "kernelspec": {
   "display_name": "Python 3",
   "language": "python",
   "name": "python3"
  },
  "language_info": {
   "codemirror_mode": {
    "name": "ipython",
    "version": 3
   },
   "file_extension": ".py",
   "mimetype": "text/x-python",
   "name": "python",
   "nbconvert_exporter": "python",
   "pygments_lexer": "ipython3",
   "version": "3.7.3"
  }
 },
 "nbformat": 4,
 "nbformat_minor": 2
}
