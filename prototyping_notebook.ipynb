{
 "cells": [
  {
   "cell_type": "code",
   "execution_count": 3,
   "metadata": {},
   "outputs": [],
   "source": [
    "# Import libraries\n",
    "import docx\n",
    "import pandas as pd\n",
    "import numpy as np\n",
    "import spacy\n",
    "from spacy import displacy\n",
    "import scispacy\n",
    "nlp = spacy.load(\"en_core_sci_lg\")\n",
    "from spacy import displacy\n",
    "from spacy.matcher import Matcher, PhraseMatcher\n",
    "from spacy.tokens import Doc, Span, Token\n",
    "from summa import summarizer\n",
    "import matplotlib.pyplot as plt\n",
    "import os\n",
    "from sklearn.decomposition import PCA\n",
    "import benepar\n",
    "from benepar.spacy_plugin import BeneparComponent\n",
    "nlp.add_pipe(BeneparComponent(\"benepar_en2\"))\n",
    "import networkx as nx"
   ]
  },
  {
   "cell_type": "code",
   "execution_count": 14,
   "metadata": {},
   "outputs": [],
   "source": [
    "text = 'Amorphous oxide semiconductors (AOSs)—ternary or quaternary oxides of post‐transition metals such as In‐Sn‐O, Zn‐Sn‐O, or In‐Ga‐Zn‐O—have been known for a decade and have attracted a great deal of attention as they possess several technological advantages, including low‐temperature large‐area deposition, mechanical flexibility, smooth surfaces, and high carrier mobility that is an order of magnitude larger than that of amorphous silicon (a‐Si:H). Compared to their crystalline counterparts, the structure of AOSs is extremely sensitive to deposition conditions, stoichiometry, and composition, giving rise to a wide range of tunable optical and electrical properties. The large parameter space and the resulting complex deposition–structure–property relationships in AOSs make the currently available theoretical and experimental research data rather scattered and the design of new materials difficult. In this work, the key properties of several In‐based AOSs are studied as a function of cooling rates, oxygen stoichiometry, cation composition, or lattice strain. Based on a thorough comparison of the results of ab initio modeling, comprehensive structural analysis, accurate property calculations, and systematic experimental measurements, a four‐dimensional parameter space for AOSs is derived, serving as a solid foundation for property optimization in known AOSs and for design of next‐generation transparent amorphous semiconductors.'"
   ]
  },
  {
   "cell_type": "code",
   "execution_count": 4,
   "metadata": {},
   "outputs": [],
   "source": [
    "text2 = 'Self-organization is a property of dissipative nonlinear processes that are governed  by a global driving force and a local positive feedback  mechanism, which  createsregular geometric and/or temporal patterns, and decreases the entropy locally, in contrast torandom processes. Here we investigate for the first time a comprehensive number of self-organization processes that operate in planetary physics, solar physics, stellar physics,galactic physics, and cosmology. Self-organizing systems create spontaneous “order out of randomness”, during the evolution from an initially disordered system to an ordered quasi-stationary system, mostly by quasi-periodic limit-cycle dynamics, but also by harmonic (me-chanical or gyromagnetic) resonances. The global driving force can be due to gravity, elec-tromagnetic forces, mechanical forces (e.g., rotation or differential rotation), thermal pressure, or acceleration of nonthermal particles, while the positive feedback mechanism is often an instability, such as the magneto-rotational (Balbus-Hawley) instability, the convective(Rayleigh-Bénard) instability, turbulence, vortex attraction, magnetic reconnection, plasmacondensation, or a loss-cone instability. Physical models of astrophysical self-organizationprocesses require hydrodynamic, magneto-hydrodynamic (MHD), plasma, or N-body simu-lations. Analytical formulations of self-organizing systems generally involve coupled differential equations with limit-cycle solutions of the Lotka-Volterra or Hopf-bifurcation type.'"
   ]
  },
  {
   "cell_type": "code",
   "execution_count": 5,
   "metadata": {},
   "outputs": [
    {
     "data": {
      "text/html": [
       "<span class=\"tex2jax_ignore\"><svg xmlns=\"http://www.w3.org/2000/svg\" xmlns:xlink=\"http://www.w3.org/1999/xlink\" xml:lang=\"en\" id=\"f920a4b489994848885e299f119749be-0\" class=\"displacy\" width=\"750\" height=\"312.0\" direction=\"ltr\" style=\"max-width: none; height: 312.0px; color: #000000; background: #ffffff; font-family: Arial; direction: ltr\">\n",
       "<text class=\"displacy-token\" fill=\"currentColor\" text-anchor=\"middle\" y=\"222.0\">\n",
       "    <tspan class=\"displacy-word\" fill=\"currentColor\" x=\"50\">This</tspan>\n",
       "    <tspan class=\"displacy-tag\" dy=\"2em\" fill=\"currentColor\" x=\"50\">DET</tspan>\n",
       "</text>\n",
       "\n",
       "<text class=\"displacy-token\" fill=\"currentColor\" text-anchor=\"middle\" y=\"222.0\">\n",
       "    <tspan class=\"displacy-word\" fill=\"currentColor\" x=\"225\">is</tspan>\n",
       "    <tspan class=\"displacy-tag\" dy=\"2em\" fill=\"currentColor\" x=\"225\">AUX</tspan>\n",
       "</text>\n",
       "\n",
       "<text class=\"displacy-token\" fill=\"currentColor\" text-anchor=\"middle\" y=\"222.0\">\n",
       "    <tspan class=\"displacy-word\" fill=\"currentColor\" x=\"400\">a</tspan>\n",
       "    <tspan class=\"displacy-tag\" dy=\"2em\" fill=\"currentColor\" x=\"400\">DET</tspan>\n",
       "</text>\n",
       "\n",
       "<text class=\"displacy-token\" fill=\"currentColor\" text-anchor=\"middle\" y=\"222.0\">\n",
       "    <tspan class=\"displacy-word\" fill=\"currentColor\" x=\"575\">sentence.</tspan>\n",
       "    <tspan class=\"displacy-tag\" dy=\"2em\" fill=\"currentColor\" x=\"575\">NOUN</tspan>\n",
       "</text>\n",
       "\n",
       "<g class=\"displacy-arrow\">\n",
       "    <path class=\"displacy-arc\" id=\"arrow-f920a4b489994848885e299f119749be-0-0\" stroke-width=\"2px\" d=\"M70,177.0 C70,89.5 220.0,89.5 220.0,177.0\" fill=\"none\" stroke=\"currentColor\"/>\n",
       "    <text dy=\"1.25em\" style=\"font-size: 0.8em; letter-spacing: 1px\">\n",
       "        <textPath xlink:href=\"#arrow-f920a4b489994848885e299f119749be-0-0\" class=\"displacy-label\" startOffset=\"50%\" side=\"left\" fill=\"currentColor\" text-anchor=\"middle\">nsubj</textPath>\n",
       "    </text>\n",
       "    <path class=\"displacy-arrowhead\" d=\"M70,179.0 L62,167.0 78,167.0\" fill=\"currentColor\"/>\n",
       "</g>\n",
       "\n",
       "<g class=\"displacy-arrow\">\n",
       "    <path class=\"displacy-arc\" id=\"arrow-f920a4b489994848885e299f119749be-0-1\" stroke-width=\"2px\" d=\"M420,177.0 C420,89.5 570.0,89.5 570.0,177.0\" fill=\"none\" stroke=\"currentColor\"/>\n",
       "    <text dy=\"1.25em\" style=\"font-size: 0.8em; letter-spacing: 1px\">\n",
       "        <textPath xlink:href=\"#arrow-f920a4b489994848885e299f119749be-0-1\" class=\"displacy-label\" startOffset=\"50%\" side=\"left\" fill=\"currentColor\" text-anchor=\"middle\">det</textPath>\n",
       "    </text>\n",
       "    <path class=\"displacy-arrowhead\" d=\"M420,179.0 L412,167.0 428,167.0\" fill=\"currentColor\"/>\n",
       "</g>\n",
       "\n",
       "<g class=\"displacy-arrow\">\n",
       "    <path class=\"displacy-arc\" id=\"arrow-f920a4b489994848885e299f119749be-0-2\" stroke-width=\"2px\" d=\"M245,177.0 C245,2.0 575.0,2.0 575.0,177.0\" fill=\"none\" stroke=\"currentColor\"/>\n",
       "    <text dy=\"1.25em\" style=\"font-size: 0.8em; letter-spacing: 1px\">\n",
       "        <textPath xlink:href=\"#arrow-f920a4b489994848885e299f119749be-0-2\" class=\"displacy-label\" startOffset=\"50%\" side=\"left\" fill=\"currentColor\" text-anchor=\"middle\">attr</textPath>\n",
       "    </text>\n",
       "    <path class=\"displacy-arrowhead\" d=\"M575.0,179.0 L583.0,167.0 567.0,167.0\" fill=\"currentColor\"/>\n",
       "</g>\n",
       "</svg></span>"
      ],
      "text/plain": [
       "<IPython.core.display.HTML object>"
      ]
     },
     "metadata": {},
     "output_type": "display_data"
    }
   ],
   "source": [
    "doc = nlp(\"This is a sentence.\")\n",
    "displacy.render(doc, style=\"dep\")"
   ]
  },
  {
   "cell_type": "code",
   "execution_count": 6,
   "metadata": {},
   "outputs": [
    {
     "name": "stdout",
     "output_type": "stream",
     "text": [
      "(S (NP (DT This)) (VP (VBZ is) (NP (DT a) (NN sentence))) (. .))\n"
     ]
    }
   ],
   "source": [
    "doc = nlp(u\"This is a sentence. It's never too late to do something.\")\n",
    "sent = list(doc.sents)[0]\n",
    "print(sent._.parse_string)\n",
    "\n",
    "#(S (NP (NP (DT The) (NN time)) (PP (IN for) (NP (NN action)))) (VP (VBZ is) (ADVP (RB now))) (. .))"
   ]
  },
  {
   "cell_type": "code",
   "execution_count": 7,
   "metadata": {},
   "outputs": [],
   "source": [
    "doc = nlp(text)\n",
    "sents = list(doc.sents)"
   ]
  },
  {
   "cell_type": "code",
   "execution_count": 7,
   "metadata": {},
   "outputs": [],
   "source": [
    "# Get strucutre information from parantheses\n",
    "def parenthetic_contents(string):\n",
    "    \"\"\"Generate parenthesized contents in string as pairs (level, contents).\n",
    "    \n",
    "    Inputs: string of text with parantheses\n",
    "    Output: tuples with level and contents\n",
    "    \n",
    "    Ref: https://stackoverflow.com/questions/4284991/\n",
    "    parsing-nested-parentheses-in-python-grab-content-by-level\n",
    "    \"\"\"\n",
    "    stack = []\n",
    "    for i, c in enumerate(string):\n",
    "        if c == '(':\n",
    "            stack.append(i)\n",
    "        elif c == ')' and stack:\n",
    "            start = stack.pop()\n",
    "            yield (len(stack), string[start + 1: i])\n",
    "            "
   ]
  },
  {
   "cell_type": "code",
   "execution_count": 8,
   "metadata": {},
   "outputs": [],
   "source": [
    "def get_sent_vp(parsed_sent):\n",
    "    '''\n",
    "    Function to get the main VP of a sentence that is \n",
    "    parsed in parantheses format.\n",
    "    \n",
    "    Inputs: List of tuples\n",
    "    Output: String in parantheses\n",
    "    '''\n",
    "    for element in parsed_sent:\n",
    "        if 1 in element:\n",
    "            if element[1][0:2]=='VP':\n",
    "                return element[1]"
   ]
  },
  {
   "cell_type": "code",
   "execution_count": 10,
   "metadata": {},
   "outputs": [],
   "source": [
    "sent_vps = []\n",
    "\n",
    "for sent in sents:\n",
    "    sent_vp = get_sent_vp(list(parenthetic_contents(sent._.parse_string)))\n",
    "    sent_vps.append(sent_vp)"
   ]
  },
  {
   "cell_type": "code",
   "execution_count": 11,
   "metadata": {},
   "outputs": [],
   "source": [
    "sub_sent_vps = []\n",
    "for sent_vp in sent_vps:\n",
    "    sub_sent_vp = list(parenthetic_contents(sent_vp))\n",
    "    sub_sent_vps.append(sub_sent_vp)"
   ]
  },
  {
   "cell_type": "code",
   "execution_count": 12,
   "metadata": {},
   "outputs": [
    {
     "name": "stdout",
     "output_type": "stream",
     "text": [
      "(0, 'VBZ is')\n",
      "(0, 'ADJP (RB extremely) (JJ sensitive) (PP (TO to) (NP (NP (NN deposition) (NNS conditions)) (, ,) (NP (NN stoichiometry)) (, ,) (CC and) (NP (NN composition))))')\n",
      "(0, ', ,')\n",
      "(0, 'S (VP (VBG giving) (NP (NN rise)) (PP (TO to) (NP (NP (DT a) (JJ wide) (NN range)) (PP (IN of) (NP (JJ tunable) (ADJP (JJ optical) (CC and) (JJ electrical)) (NNS properties))))))')\n"
     ]
    }
   ],
   "source": [
    "for sub_sent_vp in sub_sent_vps[1:2]:\n",
    "    for sub_sent in sub_sent_vp:\n",
    "        if sub_sent[0] == 0:\n",
    "            print(sub_sent)"
   ]
  },
  {
   "cell_type": "code",
   "execution_count": 13,
   "metadata": {},
   "outputs": [
    {
     "name": "stdout",
     "output_type": "stream",
     "text": [
      "(0, 'VBP make')\n",
      "(0, 'S (S (NP (DT the) (ADJP (ADJP (RB currently) (JJ available)) (UCP (JJ theoretical) (CC and) (JJ experimental))) (NN research) (NNS data)) (ADJP (RB rather) (VBN scattered))) (CC and) (S (NP (NP (DT the) (NN design)) (PP (IN of) (NP (JJ new) (NNS materials)))) (ADJP (JJ difficult)))')\n"
     ]
    }
   ],
   "source": [
    "for sub_sent_vp in sub_sent_vps[2:3]:\n",
    "    for sub_sent in sub_sent_vp:\n",
    "        if sub_sent[0] == 0:\n",
    "            print(sub_sent)"
   ]
  },
  {
   "cell_type": "code",
   "execution_count": 14,
   "metadata": {},
   "outputs": [
    {
     "name": "stdout",
     "output_type": "stream",
     "text": [
      "(0, 'VBP are')\n",
      "(0, 'VP (VBN studied) (PP (IN as) (NP (NP (DT a) (NN function)) (PP (IN of) (NP (NP (VBG cooling) (NNS rates)) (, ,) (NP (NN oxygen) (NN stoichiometry)) (, ,) (NP (NN cation) (NN composition)) (, ,) (CC or) (NP (NN lattice) (NN strain))))))')\n"
     ]
    }
   ],
   "source": [
    "for sub_sent_vp in sub_sent_vps[3:4]:\n",
    "    for sub_sent in sub_sent_vp:\n",
    "        if sub_sent[0] == 0:\n",
    "            print(sub_sent)"
   ]
  },
  {
   "cell_type": "code",
   "execution_count": 15,
   "metadata": {},
   "outputs": [
    {
     "name": "stdout",
     "output_type": "stream",
     "text": [
      "(0, 'VBZ is')\n",
      "(0, 'VP (VBN derived) (, ,) (S (VP (VBG serving) (PP (IN as) (NP (NP (DT a) (JJ solid) (NN foundation)) (PP (PP (IN for) (NP (NP (NN property) (NN optimization)) (PP (IN in) (NP (VBN known) (NNP AOSs))))) (CC and) (PP (IN for) (NP (NP (NN design)) (PP (IN of) (NP (NN next‐generation) (JJ transparent) (JJ amorphous) (NNS semiconductors))))))))))')\n"
     ]
    }
   ],
   "source": [
    "for sub_sent_vp in sub_sent_vps[4:5]:\n",
    "    for sub_sent in sub_sent_vp:\n",
    "        if sub_sent[0] == 0:\n",
    "            print(sub_sent)"
   ]
  },
  {
   "cell_type": "code",
   "execution_count": 46,
   "metadata": {},
   "outputs": [],
   "source": [
    "edges = []\n",
    "next_subs = []\n",
    "for sub_sent_vp in sub_sent_vps[4:5]:\n",
    "    for sub_sent in sub_sent_vp:\n",
    "        if sub_sent[0] == 0 and sub_sent[1][0:2] == 'VB':\n",
    "            edges.append(sub_sent[1])\n",
    "        elif sub_sent[0] == 0 and sub_sent[1][0:2] != 'VB':\n",
    "            next_subs.append(sub_sent[1])"
   ]
  },
  {
   "cell_type": "code",
   "execution_count": 47,
   "metadata": {},
   "outputs": [
    {
     "name": "stdout",
     "output_type": "stream",
     "text": [
      "['VBZ is']\n"
     ]
    }
   ],
   "source": [
    "print(edges)"
   ]
  },
  {
   "cell_type": "code",
   "execution_count": 71,
   "metadata": {},
   "outputs": [
    {
     "name": "stdout",
     "output_type": "stream",
     "text": [
      "VBN derived\n",
      "S (VP (VBG serving) (PP (IN as) (NP (NP (DT a) (JJ solid) (NN foundation)) (PP (PP (IN for) (NP (NP (NN property) (NN optimization)) (PP (IN in) (NP (VBN known) (NNP AOSs))))) (CC and) (PP (IN for) (NP (NP (NN design)) (PP (IN of) (NP (NN next‐generation) (JJ transparent) (JJ amorphous) (NNS semiconductors)))))))))\n"
     ]
    }
   ],
   "source": [
    "next_nodes = []\n",
    "for sub in next_subs:\n",
    "    strng = list(parenthetic_contents(sub))\n",
    "    for level in strng:\n",
    "        if level[0] == 0:\n",
    "            if level[1][0:1] != 'S' or ', ,' not in level[1]:\n",
    "                print(level[1])"
   ]
  },
  {
   "cell_type": "code",
   "execution_count": 17,
   "metadata": {},
   "outputs": [],
   "source": [
    "string = sent._.parse_string"
   ]
  },
  {
   "cell_type": "code",
   "execution_count": 9,
   "metadata": {},
   "outputs": [],
   "source": [
    "# Get main noun phrase for a sentence\n",
    "def get_sent_np(parsed_sent):\n",
    "    '''\n",
    "    Function to get the main NP of a sentence that is \n",
    "    parsed in parantheses format.\n",
    "    \n",
    "    Inputs: List of tuples\n",
    "    Output: String in parantheses\n",
    "    '''\n",
    "    for element in parsed_sent:\n",
    "        if 1 in element:\n",
    "            if element[1][0:2]=='NP':\n",
    "                return element[1]"
   ]
  },
  {
   "cell_type": "code",
   "execution_count": 19,
   "metadata": {},
   "outputs": [],
   "source": [
    "parsed_sent = list(parenthetic_contents(string))"
   ]
  },
  {
   "cell_type": "code",
   "execution_count": 20,
   "metadata": {},
   "outputs": [
    {
     "name": "stdout",
     "output_type": "stream",
     "text": [
      "NP (NP (DT a) (JJ four‐dimensional) (NN parameter) (NN space)) (PP (IN for) (NP (NNP AOSs)))\n"
     ]
    }
   ],
   "source": [
    "sent_np = get_sent_np(parsed_sent)\n",
    "print(sent_np)"
   ]
  },
  {
   "cell_type": "code",
   "execution_count": 21,
   "metadata": {},
   "outputs": [
    {
     "name": "stdout",
     "output_type": "stream",
     "text": [
      "VP (VBZ is) (VP (VBN derived) (, ,) (S (VP (VBG serving) (PP (IN as) (NP (NP (DT a) (JJ solid) (NN foundation)) (PP (PP (IN for) (NP (NP (NN property) (NN optimization)) (PP (IN in) (NP (VBN known) (NNP AOSs))))) (CC and) (PP (IN for) (NP (NP (NN design)) (PP (IN of) (NP (NN next‐generation) (JJ transparent) (JJ amorphous) (NNS semiconductors)))))))))))\n"
     ]
    }
   ],
   "source": [
    "sent_vp = get_sent_vp(parsed_sent)\n",
    "print(sent_vp)"
   ]
  },
  {
   "cell_type": "code",
   "execution_count": 22,
   "metadata": {},
   "outputs": [
    {
     "data": {
      "text/plain": [
       "'VBZ is'"
      ]
     },
     "execution_count": 22,
     "metadata": {},
     "output_type": "execute_result"
    }
   ],
   "source": [
    "subs_of_vp = list(parenthetic_contents(sent_vp))\n",
    "\n",
    "subs_of_vp[0][1]"
   ]
  },
  {
   "cell_type": "code",
   "execution_count": 23,
   "metadata": {},
   "outputs": [
    {
     "name": "stdout",
     "output_type": "stream",
     "text": [
      "VP (VBN derived) (, ,) (S (VP (VBG serving) (PP (IN as) (NP (NP (DT a) (JJ solid) (NN foundation)) (PP (PP (IN for) (NP (NP (NN property) (NN optimization)) (PP (IN in) (NP (VBN known) (NNP AOSs))))) (CC and) (PP (IN for) (NP (NP (NN design)) (PP (IN of) (NP (NN next‐generation) (JJ transparent) (JJ amorphous) (NNS semiconductors))))))))))\n"
     ]
    }
   ],
   "source": [
    "np_in_vp = []\n",
    "for element in subs_of_vp:\n",
    "    if 0 in element:\n",
    "        if 'NP' in element[1]:\n",
    "            np_in_vp.append(element[1])\n",
    "            print(element[1])"
   ]
  },
  {
   "cell_type": "code",
   "execution_count": 24,
   "metadata": {},
   "outputs": [
    {
     "name": "stdout",
     "output_type": "stream",
     "text": [
      "[(0, 'VBN derived'), (0, ', ,'), (2, 'VBG serving'), (3, 'IN as'), (5, 'DT a'), (5, 'JJ solid'), (5, 'NN foundation'), (4, 'NP (DT a) (JJ solid) (NN foundation)'), (6, 'IN for'), (8, 'NN property'), (8, 'NN optimization'), (7, 'NP (NN property) (NN optimization)'), (8, 'IN in'), (9, 'VBN known'), (9, 'NNP AOSs'), (8, 'NP (VBN known) (NNP AOSs)'), (7, 'PP (IN in) (NP (VBN known) (NNP AOSs))'), (6, 'NP (NP (NN property) (NN optimization)) (PP (IN in) (NP (VBN known) (NNP AOSs)))'), (5, 'PP (IN for) (NP (NP (NN property) (NN optimization)) (PP (IN in) (NP (VBN known) (NNP AOSs))))'), (5, 'CC and'), (6, 'IN for'), (8, 'NN design'), (7, 'NP (NN design)'), (8, 'IN of'), (9, 'NN next‐generation'), (9, 'JJ transparent'), (9, 'JJ amorphous'), (9, 'NNS semiconductors'), (8, 'NP (NN next‐generation) (JJ transparent) (JJ amorphous) (NNS semiconductors)'), (7, 'PP (IN of) (NP (NN next‐generation) (JJ transparent) (JJ amorphous) (NNS semiconductors))'), (6, 'NP (NP (NN design)) (PP (IN of) (NP (NN next‐generation) (JJ transparent) (JJ amorphous) (NNS semiconductors)))'), (5, 'PP (IN for) (NP (NP (NN design)) (PP (IN of) (NP (NN next‐generation) (JJ transparent) (JJ amorphous) (NNS semiconductors))))'), (4, 'PP (PP (IN for) (NP (NP (NN property) (NN optimization)) (PP (IN in) (NP (VBN known) (NNP AOSs))))) (CC and) (PP (IN for) (NP (NP (NN design)) (PP (IN of) (NP (NN next‐generation) (JJ transparent) (JJ amorphous) (NNS semiconductors)))))'), (3, 'NP (NP (DT a) (JJ solid) (NN foundation)) (PP (PP (IN for) (NP (NP (NN property) (NN optimization)) (PP (IN in) (NP (VBN known) (NNP AOSs))))) (CC and) (PP (IN for) (NP (NP (NN design)) (PP (IN of) (NP (NN next‐generation) (JJ transparent) (JJ amorphous) (NNS semiconductors))))))'), (2, 'PP (IN as) (NP (NP (DT a) (JJ solid) (NN foundation)) (PP (PP (IN for) (NP (NP (NN property) (NN optimization)) (PP (IN in) (NP (VBN known) (NNP AOSs))))) (CC and) (PP (IN for) (NP (NP (NN design)) (PP (IN of) (NP (NN next‐generation) (JJ transparent) (JJ amorphous) (NNS semiconductors)))))))'), (1, 'VP (VBG serving) (PP (IN as) (NP (NP (DT a) (JJ solid) (NN foundation)) (PP (PP (IN for) (NP (NP (NN property) (NN optimization)) (PP (IN in) (NP (VBN known) (NNP AOSs))))) (CC and) (PP (IN for) (NP (NP (NN design)) (PP (IN of) (NP (NN next‐generation) (JJ transparent) (JJ amorphous) (NNS semiconductors))))))))'), (0, 'S (VP (VBG serving) (PP (IN as) (NP (NP (DT a) (JJ solid) (NN foundation)) (PP (PP (IN for) (NP (NP (NN property) (NN optimization)) (PP (IN in) (NP (VBN known) (NNP AOSs))))) (CC and) (PP (IN for) (NP (NP (NN design)) (PP (IN of) (NP (NN next‐generation) (JJ transparent) (JJ amorphous) (NNS semiconductors)))))))))')]\n"
     ]
    }
   ],
   "source": [
    "subs_of_vp = list(parenthetic_contents(np_in_vp[0]))\n",
    "print(subs_of_vp)"
   ]
  },
  {
   "cell_type": "code",
   "execution_count": 25,
   "metadata": {},
   "outputs": [
    {
     "name": "stdout",
     "output_type": "stream",
     "text": [
      "S (VP (VBG serving) (PP (IN as) (NP (NP (DT a) (JJ solid) (NN foundation)) (PP (PP (IN for) (NP (NP (NN property) (NN optimization)) (PP (IN in) (NP (VBN known) (NNP AOSs))))) (CC and) (PP (IN for) (NP (NP (NN design)) (PP (IN of) (NP (NN next‐generation) (JJ transparent) (JJ amorphous) (NNS semiconductors)))))))))\n"
     ]
    }
   ],
   "source": [
    "np_in_vp = []\n",
    "for element in subs_of_vp:\n",
    "    if 0 in element:\n",
    "        if 'NP' in element[1]:\n",
    "            np_in_vp.append(element[1])\n",
    "            print(element[1])"
   ]
  },
  {
   "cell_type": "code",
   "execution_count": 26,
   "metadata": {},
   "outputs": [
    {
     "data": {
      "text/plain": [
       "[(1, 'VBG serving'),\n",
       " (2, 'IN as'),\n",
       " (4, 'DT a'),\n",
       " (4, 'JJ solid'),\n",
       " (4, 'NN foundation'),\n",
       " (3, 'NP (DT a) (JJ solid) (NN foundation)'),\n",
       " (5, 'IN for'),\n",
       " (7, 'NN property'),\n",
       " (7, 'NN optimization'),\n",
       " (6, 'NP (NN property) (NN optimization)'),\n",
       " (7, 'IN in'),\n",
       " (8, 'VBN known'),\n",
       " (8, 'NNP AOSs'),\n",
       " (7, 'NP (VBN known) (NNP AOSs)'),\n",
       " (6, 'PP (IN in) (NP (VBN known) (NNP AOSs))'),\n",
       " (5,\n",
       "  'NP (NP (NN property) (NN optimization)) (PP (IN in) (NP (VBN known) (NNP AOSs)))'),\n",
       " (4,\n",
       "  'PP (IN for) (NP (NP (NN property) (NN optimization)) (PP (IN in) (NP (VBN known) (NNP AOSs))))'),\n",
       " (4, 'CC and'),\n",
       " (5, 'IN for'),\n",
       " (7, 'NN design'),\n",
       " (6, 'NP (NN design)'),\n",
       " (7, 'IN of'),\n",
       " (8, 'NN next‐generation'),\n",
       " (8, 'JJ transparent'),\n",
       " (8, 'JJ amorphous'),\n",
       " (8, 'NNS semiconductors'),\n",
       " (7,\n",
       "  'NP (NN next‐generation) (JJ transparent) (JJ amorphous) (NNS semiconductors)'),\n",
       " (6,\n",
       "  'PP (IN of) (NP (NN next‐generation) (JJ transparent) (JJ amorphous) (NNS semiconductors))'),\n",
       " (5,\n",
       "  'NP (NP (NN design)) (PP (IN of) (NP (NN next‐generation) (JJ transparent) (JJ amorphous) (NNS semiconductors)))'),\n",
       " (4,\n",
       "  'PP (IN for) (NP (NP (NN design)) (PP (IN of) (NP (NN next‐generation) (JJ transparent) (JJ amorphous) (NNS semiconductors))))'),\n",
       " (3,\n",
       "  'PP (PP (IN for) (NP (NP (NN property) (NN optimization)) (PP (IN in) (NP (VBN known) (NNP AOSs))))) (CC and) (PP (IN for) (NP (NP (NN design)) (PP (IN of) (NP (NN next‐generation) (JJ transparent) (JJ amorphous) (NNS semiconductors)))))'),\n",
       " (2,\n",
       "  'NP (NP (DT a) (JJ solid) (NN foundation)) (PP (PP (IN for) (NP (NP (NN property) (NN optimization)) (PP (IN in) (NP (VBN known) (NNP AOSs))))) (CC and) (PP (IN for) (NP (NP (NN design)) (PP (IN of) (NP (NN next‐generation) (JJ transparent) (JJ amorphous) (NNS semiconductors))))))'),\n",
       " (1,\n",
       "  'PP (IN as) (NP (NP (DT a) (JJ solid) (NN foundation)) (PP (PP (IN for) (NP (NP (NN property) (NN optimization)) (PP (IN in) (NP (VBN known) (NNP AOSs))))) (CC and) (PP (IN for) (NP (NP (NN design)) (PP (IN of) (NP (NN next‐generation) (JJ transparent) (JJ amorphous) (NNS semiconductors)))))))'),\n",
       " (0,\n",
       "  'VP (VBG serving) (PP (IN as) (NP (NP (DT a) (JJ solid) (NN foundation)) (PP (PP (IN for) (NP (NP (NN property) (NN optimization)) (PP (IN in) (NP (VBN known) (NNP AOSs))))) (CC and) (PP (IN for) (NP (NP (NN design)) (PP (IN of) (NP (NN next‐generation) (JJ transparent) (JJ amorphous) (NNS semiconductors))))))))')]"
      ]
     },
     "execution_count": 26,
     "metadata": {},
     "output_type": "execute_result"
    }
   ],
   "source": [
    "list(parenthetic_contents(np_in_vp[0]))"
   ]
  },
  {
   "cell_type": "code",
   "execution_count": 27,
   "metadata": {},
   "outputs": [
    {
     "name": "stdout",
     "output_type": "stream",
     "text": [
      "[(1, 'VBG serving'), (2, 'IN as'), (4, 'DT a'), (4, 'JJ solid'), (4, 'NN foundation'), (3, 'NP (DT a) (JJ solid) (NN foundation)'), (5, 'IN for'), (7, 'NN property'), (7, 'NN optimization'), (6, 'NP (NN property) (NN optimization)'), (7, 'IN in'), (8, 'VBN known'), (8, 'NNP AOSs'), (7, 'NP (VBN known) (NNP AOSs)'), (6, 'PP (IN in) (NP (VBN known) (NNP AOSs))'), (5, 'NP (NP (NN property) (NN optimization)) (PP (IN in) (NP (VBN known) (NNP AOSs)))'), (4, 'PP (IN for) (NP (NP (NN property) (NN optimization)) (PP (IN in) (NP (VBN known) (NNP AOSs))))'), (4, 'CC and'), (5, 'IN for'), (7, 'NN design'), (6, 'NP (NN design)'), (7, 'IN of'), (8, 'NN next‐generation'), (8, 'JJ transparent'), (8, 'JJ amorphous'), (8, 'NNS semiconductors'), (7, 'NP (NN next‐generation) (JJ transparent) (JJ amorphous) (NNS semiconductors)'), (6, 'PP (IN of) (NP (NN next‐generation) (JJ transparent) (JJ amorphous) (NNS semiconductors))'), (5, 'NP (NP (NN design)) (PP (IN of) (NP (NN next‐generation) (JJ transparent) (JJ amorphous) (NNS semiconductors)))'), (4, 'PP (IN for) (NP (NP (NN design)) (PP (IN of) (NP (NN next‐generation) (JJ transparent) (JJ amorphous) (NNS semiconductors))))'), (3, 'PP (PP (IN for) (NP (NP (NN property) (NN optimization)) (PP (IN in) (NP (VBN known) (NNP AOSs))))) (CC and) (PP (IN for) (NP (NP (NN design)) (PP (IN of) (NP (NN next‐generation) (JJ transparent) (JJ amorphous) (NNS semiconductors)))))'), (2, 'NP (NP (DT a) (JJ solid) (NN foundation)) (PP (PP (IN for) (NP (NP (NN property) (NN optimization)) (PP (IN in) (NP (VBN known) (NNP AOSs))))) (CC and) (PP (IN for) (NP (NP (NN design)) (PP (IN of) (NP (NN next‐generation) (JJ transparent) (JJ amorphous) (NNS semiconductors))))))'), (1, 'PP (IN as) (NP (NP (DT a) (JJ solid) (NN foundation)) (PP (PP (IN for) (NP (NP (NN property) (NN optimization)) (PP (IN in) (NP (VBN known) (NNP AOSs))))) (CC and) (PP (IN for) (NP (NP (NN design)) (PP (IN of) (NP (NN next‐generation) (JJ transparent) (JJ amorphous) (NNS semiconductors)))))))'), (0, 'VP (VBG serving) (PP (IN as) (NP (NP (DT a) (JJ solid) (NN foundation)) (PP (PP (IN for) (NP (NP (NN property) (NN optimization)) (PP (IN in) (NP (VBN known) (NNP AOSs))))) (CC and) (PP (IN for) (NP (NP (NN design)) (PP (IN of) (NP (NN next‐generation) (JJ transparent) (JJ amorphous) (NNS semiconductors))))))))')]\n"
     ]
    }
   ],
   "source": [
    "subs_of_vp = list(parenthetic_contents(np_in_vp[0]))\n",
    "print(subs_of_vp)"
   ]
  },
  {
   "cell_type": "code",
   "execution_count": 28,
   "metadata": {},
   "outputs": [
    {
     "name": "stdout",
     "output_type": "stream",
     "text": [
      "VP (VBG serving) (PP (IN as) (NP (NP (DT a) (JJ solid) (NN foundation)) (PP (PP (IN for) (NP (NP (NN property) (NN optimization)) (PP (IN in) (NP (VBN known) (NNP AOSs))))) (CC and) (PP (IN for) (NP (NP (NN design)) (PP (IN of) (NP (NN next‐generation) (JJ transparent) (JJ amorphous) (NNS semiconductors))))))))\n"
     ]
    }
   ],
   "source": [
    "np_in_vp = []\n",
    "for element in subs_of_vp:\n",
    "    if 0 in element:\n",
    "        if 'NP' in element[1]:\n",
    "            np_in_vp.append(element[1])\n",
    "            print(element[1])"
   ]
  },
  {
   "cell_type": "code",
   "execution_count": 29,
   "metadata": {},
   "outputs": [
    {
     "data": {
      "text/plain": [
       "'VP (VBG serving) (PP (IN as) (NP (NP (DT a) (JJ solid) (NN foundation)) (PP (PP (IN for) (NP (NP (NN property) (NN optimization)) (PP (IN in) (NP (VBN known) (NNP AOSs))))) (CC and) (PP (IN for) (NP (NP (NN design)) (PP (IN of) (NP (NN next‐generation) (JJ transparent) (JJ amorphous) (NNS semiconductors))))))))'"
      ]
     },
     "execution_count": 29,
     "metadata": {},
     "output_type": "execute_result"
    }
   ],
   "source": [
    "np_in_vp[0]"
   ]
  },
  {
   "cell_type": "code",
   "execution_count": 30,
   "metadata": {},
   "outputs": [
    {
     "ename": "NameError",
     "evalue": "name 'get_top_np' is not defined",
     "output_type": "error",
     "traceback": [
      "\u001b[0;31m---------------------------------------------------------------------------\u001b[0m",
      "\u001b[0;31mNameError\u001b[0m                                 Traceback (most recent call last)",
      "\u001b[0;32m<ipython-input-30-362073a5d8e9>\u001b[0m in \u001b[0;36m<module>\u001b[0;34m\u001b[0m\n\u001b[0;32m----> 1\u001b[0;31m \u001b[0mget_top_np\u001b[0m\u001b[0;34m(\u001b[0m\u001b[0mnp_in_vp\u001b[0m\u001b[0;34m[\u001b[0m\u001b[0;36m0\u001b[0m\u001b[0;34m]\u001b[0m\u001b[0;34m)\u001b[0m\u001b[0;34m\u001b[0m\u001b[0;34m\u001b[0m\u001b[0m\n\u001b[0m",
      "\u001b[0;31mNameError\u001b[0m: name 'get_top_np' is not defined"
     ]
    }
   ],
   "source": [
    "get_top_np(np_in_vp[0])"
   ]
  },
  {
   "cell_type": "code",
   "execution_count": 10,
   "metadata": {},
   "outputs": [],
   "source": [
    "# Get main subject for a sentence\n",
    "def get_top_np(string):\n",
    "    '''\n",
    "    Recursive function to get the top most NP from\n",
    "    the main NP of a sentence.\n",
    "    \n",
    "    Inputs: String of main NP in a sentence\n",
    "    Output: Top most NP of a sentence in string format\n",
    "    '''\n",
    "    \n",
    "    # Base case\n",
    "    if string.count('NP') == 1:\n",
    "        return string\n",
    "    \n",
    "    # Generate tuples from parantheses\n",
    "    contents = parenthetic_contents(string)\n",
    "\n",
    "    # Get top most NP    \n",
    "    for element in contents:\n",
    "        if 0 in element:\n",
    "            return get_top_np(element[1])\n"
   ]
  },
  {
   "cell_type": "code",
   "execution_count": 11,
   "metadata": {},
   "outputs": [],
   "source": [
    "def get_words(string):\n",
    "    '''\n",
    "    Function to get the words from a string with POS and\n",
    "    words in parantheses.\n",
    "    \n",
    "    Inputs: String of POS and words in tuples.\n",
    "    Output: String of words in lowercase\n",
    "    '''\n",
    "    \n",
    "    # Create list of tuples\n",
    "    parsed_string = list(parenthetic_contents(string))\n",
    "    \n",
    "    # Collect and format words\n",
    "    words = ''\n",
    "    for node in parsed_string:\n",
    "        words += ' ' + node[1].split(' ')[1]\n",
    "    return words[1:].lower()"
   ]
  },
  {
   "cell_type": "code",
   "execution_count": 33,
   "metadata": {},
   "outputs": [
    {
     "data": {
      "text/plain": [
       "'NP (DT a) (JJ four‐dimensional) (NN parameter) (NN space)'"
      ]
     },
     "execution_count": 33,
     "metadata": {},
     "output_type": "execute_result"
    }
   ],
   "source": [
    "get_top_np(sent_np)"
   ]
  },
  {
   "cell_type": "code",
   "execution_count": 34,
   "metadata": {},
   "outputs": [
    {
     "data": {
      "text/plain": [
       "Based on a thorough comparison of the results of ab initio modeling, comprehensive structural analysis, accurate property calculations, and systematic experimental measurements, a four‐dimensional parameter space for AOSs is derived, serving as a solid foundation for property optimization in known AOSs and for design of next‐generation transparent amorphous semiconductors."
      ]
     },
     "execution_count": 34,
     "metadata": {},
     "output_type": "execute_result"
    }
   ],
   "source": [
    "sent"
   ]
  },
  {
   "cell_type": "markdown",
   "metadata": {},
   "source": [
    "## Get the main nodes of a paragraph\n",
    "Here the subject of each setence is a node."
   ]
  },
  {
   "cell_type": "code",
   "execution_count": 12,
   "metadata": {},
   "outputs": [],
   "source": [
    "def get_nodes(text):\n",
    "    '''\n",
    "    Function that finds the main NP of each paragraph and\n",
    "    returns them in a list to be used as nodes.\n",
    "    \n",
    "    Inputs: string of paragraph text\n",
    "    Output: list of nodes\n",
    "    '''\n",
    "    \n",
    "    # Create spacy doc\n",
    "    doc = nlp(text)\n",
    "    \n",
    "    # Get sentences as list\n",
    "    sentences = list(doc.sents)\n",
    "    \n",
    "    # Initiate list of nodes\n",
    "    nodes = []\n",
    "    \n",
    "    for sentence in sentences:\n",
    "        string = sentence._.parse_string\n",
    "        parsed_sent = list(parenthetic_contents(string))\n",
    "        sent_np = get_sent_np(parsed_sent)\n",
    "        nodes.append(get_words(get_top_np(sent_np)))\n",
    "    \n",
    "    return nodes"
   ]
  },
  {
   "cell_type": "code",
   "execution_count": null,
   "metadata": {},
   "outputs": [],
   "source": [
    "nodes = get_nodes(text)"
   ]
  },
  {
   "cell_type": "code",
   "execution_count": 31,
   "metadata": {},
   "outputs": [
    {
     "data": {
      "text/plain": [
       "['amorphous oxide semiconductors',\n",
       " 'the structure',\n",
       " 'the large parameter space',\n",
       " 'the key properties',\n",
       " 'a four‐dimensional parameter space']"
      ]
     },
     "execution_count": 31,
     "metadata": {},
     "output_type": "execute_result"
    }
   ],
   "source": [
    "nodes"
   ]
  },
  {
   "cell_type": "markdown",
   "metadata": {},
   "source": [
    "## Make simple graph using nodes"
   ]
  },
  {
   "cell_type": "code",
   "execution_count": 32,
   "metadata": {},
   "outputs": [
    {
     "data": {
      "image/png": "[encoded data removed]",
      "text/plain": [
       "<Figure size 432x288 with 1 Axes>"
      ]
     },
     "metadata": {},
     "output_type": "display_data"
    }
   ],
   "source": [
    "G = nx.Graph()\n",
    "\n",
    "G=nx.Graph()\n",
    "\n",
    "# adding a list of nodes\n",
    "G.add_nodes_from([1,2,3,4,5])\n",
    "\n",
    "# adding a list of edges:\n",
    "G.add_edges_from([(1,2), (1,3), (1,4), (1,5)])\n",
    "\n",
    "labels = {1:nodes[0], 2:nodes[1], 3:nodes[2], 4:nodes[3], 5:nodes[4]}\n",
    "nx.draw(G, node_size=1000, node_color='cyan', labels=labels, with_labels=True)\n",
    "\n",
    "\n",
    "plt.axis('off')\n",
    "axis = plt.gca()\n",
    "axis.set_xlim([1.4*x for x in axis.get_xlim()])\n",
    "axis.set_ylim([1.5*y for y in axis.get_ylim()])\n",
    "#plt.tight_layout()\n",
    "\n",
    "\n",
    "plt.savefig(\"simple_path.png\", dpi=300, bbox_inches='tight') # save as png\n",
    "plt.show() # display"
   ]
  },
  {
   "cell_type": "markdown",
   "metadata": {},
   "source": [
    "## Get Main Nodes per Paragrah on Perovskite Literature"
   ]
  },
  {
   "cell_type": "code",
   "execution_count": 4,
   "metadata": {},
   "outputs": [
    {
     "name": "stdout",
     "output_type": "stream",
     "text": [
      "['adfm.201901476.docx', 'Bush et al. - 2017 - 23.6%-Efficient Monolithic PerovskiteSilicon Tandem Solar Cells With Improved Stability.docx', 'Celik et al. - 2017 - Environmental analysis of perovskites and other relevant solar cell technologies in a tandem configuration.docx', 'Dunfield et al. - 2018 - Curtailing Perovskite Processing Limitations via Lamination at the PerovskitePerovskite Interface.docx', 'Eperon, Hörantner, Snaith - 2017 - Metal halide perovskite tandem and multiple-junction photovoltaics.docx', 'Esperon et al. - 2016 - Perovskite-perovskite tandem photovoltaics with optimized band gaps.docx', 'Han et al. - 2018 - High-performance perovskiteCu(In,Ga)Se2 monolithic tandem solar cells.docx', 'Lin et al. - Unknown - Monolithic all-perovskite tandem solar cells with 24.8% efficiency exploiting comproportionation to suppress Sn(i.docx', 'Sofia et al. - 2018 - Economic viability of thin-film tandem solar modules in the United States.docx', 'Yu, Carpenter, Holman - 2018 - Techno-economic viability of silicon-based tandem photovoltaic modules in the United States.docx']\n"
     ]
    }
   ],
   "source": [
    "# Make list of papers\n",
    "files = os.listdir('papers/')[1:]\n",
    "print(files)"
   ]
  },
  {
   "cell_type": "code",
   "execution_count": 5,
   "metadata": {},
   "outputs": [],
   "source": [
    "# Make dictionary of papers\n",
    "doc_names = ['doc_{}'.format(i) for i in range(len(files))]\n",
    "doc_dict = {}\n",
    "\n",
    "for i in range(len(files)):\n",
    "    doc = docx.Document(\"papers/\"+files[i])\n",
    "    doc_dict[doc_names[i]] = [p.text for p in doc.paragraphs if len(p.text) > 150]"
   ]
  },
  {
   "cell_type": "code",
   "execution_count": 6,
   "metadata": {},
   "outputs": [
    {
     "data": {
      "text/plain": [
       "['César Omar Ramírez Quiroz,* George D. Spyropoulos, Michael Salvador, Loïc M. Roch, Marvin Berlinghof, José Darío Perea, Karen Forberich, Laura-Isabelle Dion-Bertrand, Nadine J. Schrenker, Andrej Classen, Nicola Gasparini, Ganna Chistiakova, Mathias Mews, Lars Korte, Bernd Rech, Ning Li, Frank Hauke, Erdmann Spiecker, Tayebeh Ameri, Steve Albrecht, Gonzalo Abellán, Salvador León, Tobias Unruh, Andreas Hirsch, Alán Aspuru-Guzik, and Christoph J. Brabec',\n",
       " 'A multipurpose interconnection layer based on poly(3,4-ethylenedioxythio-phene) doped with poly(styrene sulfonate) (PEDOT:PSS), and d-sorbitol for monolithic perovskite/silicon tandem solar cells is introduced. The inter-connection of independently processed silicon and perovskite subcells is a simple add-on lamination step, alleviating common fabrication complexities of tandem devices. It is demonstrated experimentally and theoretically that PEDOT:PSS is an ideal building block for manipulating the mechanical and electrical functionality of the charge recombination layer by controlling the microstructure on the nano- and mesoscale. It is elucidated that the optimal functionality of the recombination layer relies on a gradient in the d-sorbitol dopant distribution that modulates the orientation of PEDOT across the PEDOT:PSS film. Using this modified PEDOT:PSS composite, a monolithic two-terminal perovskite/silicon tandem solar cell with a steady-state efficiency of 21.0%, a fill factor of 80.4%, and negligible open circuit voltage losses com-pared to single-junction devices is shown. The versatility of this approach is further validated by presenting a laminated two-terminal monolithic perov-skite/organic tandem solar cell with 11.7% power conversion efficiency. It is envisioned that this lamination concept can be applied for the pairing of mul-tiple photovoltaic and other thin film technologies, creating a universal plat-form that facilitates mass production of tandem devices with high efficiency.',\n",
       " 'The stark research interest in perovskite photovoltaics has led to record lab scale power conversion efficiencies exceeding 22%.[1] It is the outstanding defect tol-erance of perovskite semiconductors that allows to envision the design of technologies that uniquely combine solution-processing, reliability, and cost effectiveness without compromising device efficiency, longevity, and process-ability.[2,3] Nevertheless, the rapid growth of the global photovoltaic\\xad market, over-whelmingly owned by silicon technologies, has imposed a significant economy-of-scale prize drop, making it difficult for new technologies to entering the market. On that account, recent studies estimate that reducing factory costs while further improving power conversion efficiencies will play a critical role for new technologies to achieve market readiness, enabling man-ufacturing to scale up more rapidly.[4,5] In this context, and as means to better match',\n",
       " 'Department of Materials for Electronics and Energy Technology (i-MEET) Martensstrasse 7, D-91058 Erlangen, Germany E-mail: CRamirez@nice-solarenergy.com, omar.quiroz@fau.de',\n",
       " 'Department for Material Physics Friedrich-Alexander Universität Erlangen-Nürnberg (FAU) Institute for Crystallography and Structural Physics (ICSP) Staudtstrasse 3, 91058 Erlangen, Germany',\n",
       " 'Schematic representation of the aromatic and quinoid formation of the PEDOT structure upon doping. d) Absorbance spectra of PEDOT:PSS and TCA showing difference in the polaronic (850 nm) and bipolaronic (2000 nm) bands (dashed lines) upon addition of sorbitol.',\n",
       " 'the solar spectrum and reduce thermalization losses, tandem solar cells represent an attractive technology (Figure 1a). Recently, record efficiencies have been theoretically predicted',\n",
       " 'and experimentally approached by merging silicon and perov-skite technologies into a single monolithic tandem device.[6–11] However, the intricacy of the fabrication of this class of devices',\n",
       " 'Center for Nanoanalysis and Electron Microscopy (CENEM) Institute of Micro- and Nanostructure Research (IMN) Interdisciplinary Center for Nanostructured Films (IZNF) Cauerstrasse 3a, 91058 Erlangen, Germany',\n",
       " 'Dr. F. Hauke, Dr. G. Abellán, Prof. A. Hirsch Department of Chemistry and Pharmacy & Institute of Advanced Materials and Processes (ZMP) Friedrich-Alexander Universität Erlangen-Nürnberg (FAU) Dr.-Mack-Str. 81, D-90762 Erlangen, Germany',\n",
       " 'associated with the use of elaborate physical vapor deposition techniques such as atomic layer deposition and sputtering raises concerns about their potential for commercialization. Given the complexity and number of functional layers, a major challenge in state-of-the-art two-terminal (monolithic) solar cell stacks is the electronic and processing compatibility of successive layers. It is therefore not surprising that the latest engineering advances revolve around layer-sequence tolerance and vertical process compatibility instead of high efficiency and economic feasibility.[6,7]',\n",
       " 'Here, we report an innovative manufacturing process for perovskite/silicon two-terminal tandem solar cells, in which the two subcells can be developed and processed independently and afterward electrically interconnected using a simple lamination process (Figure 1b). The key enabling technology is poly(3,4-ethylenedioxythiophene):poly(styrene\\xad sulfonate) (PEDOT:PSS) doped with d-sorbitol, hereafter called d-PEDOT:PSS, func-tioning as both transparent conductive adhesive (TCA) and interconnection layer (ICL, Figure 1c,d). This TCA provides mechanical adhesion as well as low resistivity and results in laminated perovskite/silicon tandem solar cells with high photovoltaic\\xad efficiency, on par with state-of-the-art devices. This result is particularly exciting because the intermediate layer represents a sensitive link for achieving efficient optical and electrical coupling between the subcells. It is generally very challenging to combine optimal electrical conductivity, charge recombination behavior, and layer compatibility in ICLs pro-cessed from solution.[12]',\n",
       " 'PEDOT-based TCAs were first proposed as an alterna-tive manufacturing method for organic light-emitting diodes (OLEDs) and required a large concentration of organic com-pounds with multiple hydroxyl groups.[13] Substantial con-ductivity enhancements in combination with morphological rearrangements have been explored in PEDOT:PSS thin films featuring rather small amounts of cosolvents.[14–18] Of par-ticular interest in bioelectronics applications are ionic and/or electronic transport properties and their connection to mor-phology upon addition of high-boiling-point cosolvents.[15–20] Recently, several research groups followed up independently, where PEDOT:PSS-enabled TCAs are used exclusively for electrode lamination in single-junction solar cells[21–24] and even modules.[25] However, the use of d-PEDOT:PSS as part of the interconnection layer of a monolithic tandem has not been explored before neither is the relation between mor-phology and electronic properties sufficiently understood. A fundamental understanding could introduce, as shown here, a',\n",
       " 'The application in a recombination layer imposes \\xadadditional complexity and combining the two enabling functionalities of d-PEDOT:PSS into one layer may seem contradictory at first, as adhesion and conductivity are often conflicting properties. This is why the detailed function of the interconnection layer with more than 2 µm thickness, and specially the interplay between the conductive matrix (PEDOT:PSS) and the adhesive (sorbitol) has intrigued our attention. Through a combination of Raman and X-ray spectroscopy, we found evidence for a vertical gra-dient in the distribution of d-sorbitol that is directly linked to an increasing number of crystalline PEDOT aggregates at the',\n",
       " 'critical interconnection interface and suggest that this finding is at the origin of the oxymoron between adhesion and conduc-tivity that leads to high photovoltaic performance in laminated perovskite/silicon tandem cells.',\n",
       " 'The process for the fabrication of laminated two-terminal perovskite/silicon tandem solar cells is illustrated in Figure 1 and Figure S1 (Supporting Information) and can be summa-rized by the following steps.',\n",
       " 'First, we utilized a silicon heterojunction bottom cell with the following architecture: indium thin oxide (ITO)/(p) a-Si:H/(i)a-Si:H/(n)c-Si wafer/(i)a-Si:H/(n)a-Si:H/ITO/Ti/Ag. We defined an active area of 15 mm2 through an evaporation mask for the deposition of 40 nm ITO as top contact layer. For the perovskite subcell, we utilized a p-i-n architecture with a reliably high fill factor, featuring a bilayer system for better extraction of holes from the perovskite absorber. A full dis-cussion on the functionality of the hole transporting bilayer (HTL) is incorporated in Section 3. The device area of the perovskite subcell was defined by means of laser patterning of ITO-coated UV-fused silica substrates\\xad. We then devel-oped the ICL on top of the ITO of the silicon cell. Our ICL consists of a thin mesh of nanostructured silver nanowires (AgNW; ≈15 Ω square−1) followed by a blend of highly hole conductive (≈1000 S cm−1) PEDOT:PSS emulsion ink (Cle-vios PH1000; PEDOT :PSS ratio 1:2.5 w/w) with the addi-tion of a significant amount of polyhydric alcohol (40 wt% of d-sorbitol). 40 wt% of d-sorbitol delicately balances the necessary mechanical and rheological properties for our deposition process. Notably, we did not observe a significant viscosity change of the PEDOT:PSS emulsion upon addition of d-sorbitol (from ≈146 to ≈150 mPa s−1). Our ICL composite was deposited through doctor blading and the protocol was modified from previously reported work in our laboratories.[25] Next, we laminated the two subcells to form a monolithic con-nection in series. By simply pressing the perovskite subcell against the preannealed, ICL-coated silicon subcell, exerting a moderate pressure (≈2 bars), we mechanically interconnected the poly(ethylenimine) (PEI) top layer of the perovskite subcell with the TCA layer on the silicon cell. The complete evolution of our ICL deposition method and lamination is discussed in the Supporting Information, and the full details of device fab-rication are provided in the Experimental Section.',\n",
       " 'The complete architecture of the laminated two-terminal perovskite/silicon tandem device is depicted in Figure 2a. The steady-state J–V curve for the champion tandem device is shown in Figure 2b (solid black line, 4). The champion device yielded a power conversion efficiency of 21.0% under simulated solar illumination based on a Voc of 1.78 V, a FF of 80.4%, and a Jsc of 14.7 mA cm−2. The minor Voc losses compared to the single devices (Tables S1 and S2, Supporting Information) and the high FF are evidence that the TCA acts as a very effective ICL layer. A complete collection of photovoltaic parameters along with the optimization process (Figure 2b, devices 1–3) and the statistical metrics is presented in Figure S2 and Table S1 (Supporting Information). The tandem device was held at',\n",
       " 'Figure 2.  a) Two-terminal perovskite/silicon tandem laminated through a transparent conductive adhesive (TCA) composite as interconnection layer, device architecture showing layer sequence. b) J–V curve and efficiency at maximum power point (lower panel) of the best performing device (black solid line labeled with the number 4). The J–V curves with labels 1 to 3 represent various stages of the device optimization. c) Total device absorption (1-reflection, thin gray line), EQE from the silicon subcell is denoted by the red solid line, the thick gray solid is the EQE from the perovskite subcell. Gray and orange areas represent reflection and parasitic absorption losses. d) Cross-sectional SEM image of perovskite top subcell. e) Cross-sectional SEM of interconnection layer, the TCA composite is deposited on top of the silicon cell. f) Cross-sectional SEM of the ITO (from silicon subcell)/AgNW/ TCA junction conforming the silicon subcell side of the interconnection layer.',\n",
       " 'maximum power point, under 1 sun simulated illumination, in air for up to 30 min without significant change in efficiency (Figure 2b, lower panel), that is, the top and bottom substrates act as an inherent encapsulation barrier.',\n",
       " 'According to scanning electron microscopy (SEM) cross-sectional images, the thickness of the perovskite layer was ≈240 nm (Figure 2d). A close-up SEM image shows the',\n",
       " 'nanostructured\\xad AgNW mesh deposited atop the silicon subcell as a fundamental component of the ICL (Figure 2e,f). Further-more, a SEM cross section of the ICL as shown in Figure 2e demonstrates that the TCA features an average thickness of ≈2.8 µm. We have shown before that a d-PEDOT:PSS layer with such a thickness provides sufficient conductivity to effi-ciently extract charge carriers in a single-junction photovoltaic device.[25]',\n",
       " 'In order to evaluate the spectrally resolved photocurrent generation under short-circuit conditions, we measured the external quantum efficiency (EQE) of our perovskite/silicon tandem devices (Figure 2c), following accepted standards.[6] We measured an integrated short-circuit current of 17.1 mA cm−2',\n",
       " 'for the perovskite top cell and 14.7 mA cm−2 for the silicon bottom cell. These values are well reproduced by transfer matrix calculations, in which the current generation of the bottom and top subcell is calculated as a function of the perov-skite thickness taking into account our ICL system (Figure 3c). Notably, the matched Jsc of the tandem is limited by the silicon subcell as verified by its EQE (Figure S3, Supporting Informa-tion). Conversely, a matched Jsc in the order of the Jsc of the perovskite top cell could lead to a tandem cell with 24.4% power conversion efficiency. This value should be within reach given that silicon heterojunction/perovskite tandem solar cells with matched subcell currents greater 18 mA cm−2 have been reported.[8–10,26]',\n",
       " 'Furthermore, by recording the total reflectance of the device (thin gray line in Figure 2c), we can quantify losses of short-circuit current, or prevention of those, associated with reflec-tion and parasitic absorption. We found that the utilization of MgF2 as antireflection coating minimized the overall reflection losses to 4.6 mA cm−2 (5.0 mA cm−2 without the utilization of MgF2). By inferring that the difference between the measured',\n",
       " 'Figure 3.  a) Perovskite subcell architecture showing the refractive index of each layer at 1000 nm. b) Representative photocurrent density–voltage curves under AM 1.5 irradiation at 0.1 W cm−2 illumination. c) Simulated and experimentally obtained photocurrent density of laminated perov-skite/silicon monolithic tandem. d) Steady-state photoluminescence of the perovskite semiconductor along with various extraction layers. Time-resolved photoluminescence decay measurements on perovskite films with and without intermediate CuSCN layer. e) The layers were excited by incident light from the glass side. The ratio of the area under the curve PTAA/PTAA-CuSCN was 1.47 for steady-state PL (d) and 1.46 for transient PL (e). f) Comparison of the FTPS spectra of solar cells with PTAA only as well as with the implementation of the PTAA/CuSCN bilayer as hole extraction interface.',\n",
       " 'EQE and 1-reflection corresponds to the total parasitic losses of our device, we can compute a total photocurrent loss of 0.9 mA cm−2 for wavelengths below 700 nm, and 6.0 mA cm−2 for wavelengths higher than 700 nm. Importantly, the parasitic loss associated with the ICL composite, including the TCA and the AgNW mesh, accounts for only ≈10% of the total IR para-sitic loss depicted in Figure 2c (see also Figure S4, Supporting Information).',\n",
       " 'We emphasize that one of the critical advantages of our \\xadprocess is that it allows for an independent development and optimization of the two photovoltaic subcells. This could in principle be explored for combining a variety of PV and other technologies and substrates, including flexible plastic substrates (Figure 1b). It is plausible that such an approach could improve the versatility of the fabrication process and reduce cost in the context of mass production. In order to elaborate on that statement, we replicated our lamina-tion process on a completely different material system. We designed and fabricated a hybrid laminated tandem solar cell based on organic and perovskite single cell architec-tures. The fabrication protocols for these two particular solar',\n",
       " 'technologies are diametrically opposed, as their interlayers require noncompatible solvents. For the organic subcell, we utilized the photoactive polymer poly[(5,6-bis-R1-(2,1,3-ben-zothiadiazole-4,7-dilyl)], side chains R1 and R2 are not pub-lished (trade name from Merck: lisicon) (PBTZT-stat-BDTT-8) (Figure S5c, Supporting Information) blended with phenyl C61 butyric acid methyl ester (PCBM), following the geom-etry: IMI/ZnO nps/PBTZT-stat-BDTT-8:PCBM/PEDOT:PSS/ AgNW/ICL. IMI is a commercially available ITO-Ag-ITO-coated poly(ethylene terephthalate) (PET) flexible substrate. All the layers from the organic subcell are deposited using the scalable doctor-blade technique and the fabrication is described in detail elsewhere.[25] The perovskite subcell fol-lowed the sequence: glass/ITO/PEDOT:PSS/CH3NH3PbI3/ PCBM/ZnO nps/PEI. The architecture of the resulting lami-nated tandem device is illustrated in Figure S5a (Supporting Information). Characteristic J–V curves for the tandem cells along with the individual single-junction components are displayed in Figure S5b (Supporting Information). The lami-nated tandem cells showed a Voc of 1.65 V, FF = 68%, and Jsc = 10.38 mA cm−2 leading to an efficiency of 11.65%. Again,',\n",
       " 'the Voc values showed no losses as compared to the arith-metical addition of its individual single-junction building blocks. A full collection of the photovoltaic parameters and the typical statistic figures of merit can be found in Table S3 (Supporting Information). We underline that, as opposed to our perovskite/silicon laminated tandem, our perovskite/ OPV-laminated tandem was based on a flexible-cell to rigid-cell transfer (Figure 1b).',\n",
       " 'It is important to briefly elucidate the design of the opaque single-junction solar cell that leads to the aforementioned perovskite top cell. The single-junction perovskite solar cell with opaque back contact featured the following p-i-n architecture: MgF2 (165 nm)/fused silica/ITO (150 nm)/PTAA (≈10 nm)/CuSCN (≈5 nm)/CH3NH3PbI3 (≈400 nm)/PCBM (≈40 nm)/ZnO:Al nanoparticles (≈40 nm)/PEI (≈5 nm)/Ag (≈100 nm) (Figure 3a), where PTAA stands for poly[bis(4-phenyl)(2,5,6-trimethyl-phenyl)amine]. The rationale behind this device geometry was to eliminate the performance loss that is commonly observed in connection with micrometer thick TCA composites—usually dominated by a reduced fill factor associated with an increase of the series resistance[22–25]—and thus to engineer perovskite subcell architectures with reduced transport related loss chan-nels. As such, we selected PTAA as a HTL as it allows the highest reported fill factors for perovskite architectures of up to ≈84%.[27–31] Nevertheless, we observed a drop in open-circuit voltage, raising concerns about the homogeneity of the PTAA layer.[27] Additionally, it was revealed that PTAA affords a rather slow extraction of holes when in direct contact with the perov-skite, leading to recombination losses of first and higher order and limited charge collection.[27] To alleviate limited extraction of charge carriers through PTAA only, we further incorpo-rated an ultrathin layer of CuSCN. CuSCN is an intrinsically p-doped high-bandgap semiconductor, with high hole mobility (1.2 × 10−3 cm2 V−1 s−1 vs 1.2 × 10−5 cm2 V−1 s−1 for PTAA[3,32]), good thermal stability, and high transmittance.[33] The latter, along with its ideal refractive index (see Figure 3a), are desir-able attributes for perovskite-preceding layers on tandem applications, as they will allow the transmission of infrared light across the device stack.[3,34–36] The combination of PTAA/ CuSCN increased the fill factor considerably from ≈77% for PTAA alone to >82% on a 10.4 mm2 active area configuration. Current–voltage characterization for both device architectures using PTAA and PTAA/CuSCN is displayed in Figure 3b, and extracted photovoltaic parameters can be found in Table S2 (Supporting Information).',\n",
       " 'We investigated in detail the optoelectronic properties of perovskite thin films in the presence of these different interfa-cial layers using steady-state and transient photoluminescence (PL) measurements as well as Fourier-transform photocurrent spectroscopy (FTPS). Clearly, the PL quenching efficiency and dynamics increase (Figure 3d,e) as does the spatial homoge-neity of PL quenching across the perovskite film (Figure S6, Supporting Information). These measurements suggest that the presence of CuSCN on top of PTAA benefits the charge car-rier extraction dynamics in a full device, most likely due to an',\n",
       " 'efficient charge carrier transfer between the absorber and the selective contact.[37,38] Conversely, measurements of the Urbach energy—a measure for the degree of structural disorder of the perovskite material[39–42]—with (10.3 meV with R2 = 0.999) and without CuSCN (10.4 meV with R2 = 0.999) using FTPS (Figure 3f) reveal very low Urbach energies and no change in the crystallinity of near to ideally grown perovskite layers regard-less of the underlying template material. Overall, the hole trans-porting bilayer PTAA/CuSCN provides improved optoelectronic attributes for single and tandem perovskite solar cell devices.',\n",
       " 'Returning to the device layout used for the opaque perov-skite device (and top subcell), it is worth noticing that the device was finalized with a thin layer of PEI. This layer turns out to be crucial\\xad as it acts as a permeation barrier between the PEDOT:PSS containing TCA (silicon subcell) and zinc oxide nanoparticles (perovskite subcell, Figure 2a) upon the lamina-tion process, typically leading to reduced series resistance, in agreement with earlier reports.[25]',\n",
       " 'The high FF of the laminated tandem raises the question of why such a thick, simultaneously adhesive and conductive PEDOT:PSS-d-sorbitol blend works so well as the interconnec-tion layer of a monolithic tandem. We recall that PEDOT:PSS is a microdispersion of stable gel particles comprised of up to 95% water. The dispersed molecules are an ionically bonded, interlinked mixture of positively charged PEDOT oligomers and PSS− poly(anions) (Figure 1c). PEDOT itself is a hydrophobic oligomer with a typical number molecular weight distribu-tion (Mn) in PEDOT:PSS dispersions ranging from 1000 to 2900 g mol−1 (6 to 20 monomeric units per oligomer).[43] PSS, on the other hand, is a thermoplastic polymer with a typical Mn of about 400 000 g mol−1 (Figure S7, Supporting Information).',\n",
       " 'The large hole conductivity of PEDOT:PSS is primarily a result of the PSS− poly(anion) doping of the π-conjugated elec-tron system of PEDOT. Given that PEDOT is aromatic in the ground state and quinoid in the doped state, it is possible to characterize electronic transitions (polaronic or bipolaronic) in the PEDOT oligomers through optical absorption meas-urements.[44–48] Figure 1d shows typical absorbance spectra for films fabricated using our PEDOT:PSS-sorbitol blend recipe (red), a pristine PEDOT:PSS emulsion (black), and a 40 wt% sorbitol solution in deionized water (blue). All layers were fabricated as to afford similar thickness (≈10 µm). The decrease of the polaronic band (850 nm) along with an increase of the bipolaronic band (2000 nm) suggests that the addition of sorbitol enhances the doping efficiency of PSS, generating more highly doped PEDOT oligomers (Figure 1d).[14–16,48,49]',\n",
       " 'Noteworthy, the observed chromaticity of the PEDOT:PSS when reducing the absorption of the polaronic band will ulti-mately benefit the transit of light throughout the same wave-length regime of the silicon subcell.',\n",
       " 'To gain a molecular understanding of the role of d-sorbitol in the doping mechanism of PEDOT:PSS, as evidenced by optical absorption measurements in the visible and near-infrared, we performed classical molecular dynamic (MD) simulations of the',\n",
       " 'Figure 4.  Molecular electrostatic potential counterplots of elements utilized in molecular dynamics (MD) simulations. a) The utilized threshold potentials in atomic units (a.u.) are as follows: (1) d-sorbitol +0.05 and −0.03, (2) PSS trimer with different sequences +0.025 and −0.125, (4) most stable PEDOT:PSS structure +0.05 and −0.045, negative and positive potential are red and blue, respectively. (3) Top and side view of PEDOT2+ oligomers (eight units) +0.18 and +0.132 for the blue and yellow regimes. Snapshot of four consecutive simulation boxes of the molecular dynamics for the systems PEDOT:PSS (left) and PEDOT:PSS 40 wt% d-sorbitol (right). b) In order to effectively render the aggregated PEDOT upon addition of d-sorbitol, only the PEDOT oligomers are displayed. c) Number of hydrogen bonds during the molecular dynamics trajectory; the inset shows the total electronic density change upon hydrogen formation in sorbitol–sorbitol (1) and sorbitol–PSS (2) interactions. d) Radial distribution function between PEDOT thiophene rings upon addition of d-sorbitol; the inset shows a representation of three stacked PEDOT oligomers to illustrate the determination of the radial distribution function.',\n",
       " 'PEDOT:PSS system in the presence of d-sorbitol. The atomic charges used for the parametrization of the classical MD simu-lations were obtained from the molecular electrostatic potential (MEP; for detailed information, we refer the reader to the Sup-porting Information). This is shown in Figure 4a (from 1 to 4) for the individual components sorbitol (1), PSS (2), PEDOT (3), and for PEDOT:PSS (4). For PEDOT:PSS (4), we defined a chain comprised of eight monomeric units and two positive charges',\n",
       " '(bipolaron). As model compound for PSS, we considered a trimer with a negatively charged central unit, that is, SSH SS− SSH. Furthermore, a total of 100 starting structures, consisting of two PSS− pentamers and a single eight-unit PEDOT2+ chain, were generated in the case of PEDOT:PSS. Structure (4) in Figure 4a depicts the most stable complex along with its charge distribution.',\n",
       " 'the nuclei is uniformly spread along the PEDOT chain (core MEP in blue) and is, therefore, not impacted by the missing electrons, though some charge is concentrated around the four central units of PEDOT (yellow counterplot). The scenario in the case of PSS is particularly relevant. Considering the three most probable structures (Figure 4a, (3; a to c)), the calculations show that the negative charge is primarily located on the central SS unit. In one case (3a), the negative charge is, however, delocalized over two SS subunits, although the central unit is more negative. We ration-alize this observation by concluding that the proton of the neutral subunit is weakly bound to both the SS subunits. More specifi-cally, the hydrogen atom forms a weak covalent bond with the neutral PSS subunit (bond length of 1.12 Å) and a strong H-bond with the negative PSS subunit (H-bond length of 1.33 Å). As a reference, the typical O H bond length in a SO3H group is com-puted to be 0.98 Å at the same level of theory.',\n",
       " 'Upon the conclusion of the parametrization, we proceeded with the MD simulations. Figure 4b shows MD renderings of the PEDOT-PSS system, visualizing the spatial distribution of the PEDOT oligomers in the pristine system (left), and with a 40% content of d-sorbitol (right) (MD snapshots for all other components can be seen in Figure S7, Supporting Information. The analysis of the hydrogen bond interactions in this rendering provides insight into the role of d-sorbitol on the morphology of d-PEDOT:PSS. Figure 4c shows the number of hydrogen bonds formed by sorbitol over time during the MD simulation. As expected, there are almost no hydrogen bonds formed between sorbitol and PEDOT. This is explained by the repulsive poten-tial of PEDOT2+ (Figure 4a (3)), precluding hydrogen atoms to approach. However, a large number of hydrogen bonds are formed between sorbitol and PSS− as well as among sorbitol molecules. As a matter of fact, with up to ≈500 H-bonds for a total of 640 PSS repeat units present in the simulation box, the proportion of hydrogen bonds with sorbitol is about 0.8 per PSS unit. Representative H-bonds for sorbitol–sorbitol and for sorbitol–PSS, along with their respective total electronic den-sity change are rendered in the inset of Figure 4c. To investigate whether the formation of hydrogen bonds between PSS and sorbitol has an impact on the PEDOT–PSS interaction, and on the arrangement of the PEDOT units, it is of interest to analyze',\n",
       " 'the radial distribution function between the PEDOT groups. To get a more lucid picture, the distribution function is computed between the closest centers of thiophene rings in different PEDOT chains (i.e., only the shortest distance between two given chains is considered) with and without d-sorbitol, as depicted in the inset of Figure 4d. Both profiles display a maximum at 3.65 Å, a distance close to the experimental π–π stacking distance, as discussed below. Interestingly, the intensity of that peak is more pronounced when 40% sorbitol is mixed with the PEDOT–PSS system, and, thus sorbitol appears to favor the stacking of PEDOT. The peak observed at 7.30 Å corresponds to the formation of the trimer. The intensity is much lower, implying that PEDOT aggre-gates consist of mostly two stacked chains; it is also broader, indi-cating a dispersion of the separation between pairs. This obser-vation is also reflected at the quantum mechanical level and is explained by considering the electrostatic repulsion between the positively charged eight-unit PEDOT chains. We conclude this section by summarizing that the doping mechanism of d-sorbitol is of indirect nature. d-sorbitol does not directly dope PEDOT. Instead, d-sorbitol forms hydrogen bonds with the PSS units, while being repulsed by charged PEDOT units, overall enhancing dimer formation of charged PEDOT oligomers.',\n",
       " 'While the computation of molecular dynamics provides insight on a molecular level, for a global device understanding it is impor-tant to elucidate whether d-sorbitol acts uniformly across the thick-ness of the TCA layer (>2 µm). We thus performed resonance statistical Raman spectroscopy (SRS) to assess the electronic struc-ture evolution of PEDOT upon doping.[14,50,51] This can be done by monitoring the symmetric stretching bond Cα Cβ[ O] of the thiophene in PEDOT (Figure 1c). As a result of the disruption of the π-conjugated bond sequence upon doping (see Figure 1c), the main aromatic-symmetric Cα Cβ[ O] stretching mode will undergo two main changes: a frequency shift toward higher wave-numbers and a band splitting.[52] Hence, a ratio between the split quinoid-symmetric Cα Cβ[ O] stretching band and the main aromatic-symmetric Cα Cβ[ O] stretching band is inferred to as a figure of merit for the doping ratio of the PEDOT oligomer.[50–54] We utilized an excitation wavelength of 785 nm to resonantly excite the polaron absorption and maximize the Raman band inten-sity. The resulting mean Raman spectra (average of at least 100 single',\n",
       " 'Figure 5.  Statistical Raman spectrograms (785 nm excitation) of PEDOT:PSS and TCA highlighting the increase in PEDOT–quinoid species upon sorbitol addition. Label A indicates the aromatic-symmetric Cα Cβ[ O] stretching band, while the label Q indicates the quinoid-symmetric Cα Cβ[ O] stretching band. a) A minimum of 100 spectra along a surface area of 10 µm2 (1 µm step size) were averaged for each plot. b,c) Depth-resolved scanning confocal Raman microscopy analysis highlighting the Cα Cβ[ O]/Cα Cβ[ O] (A/Q) ratio distribution in TCA and PEDOT:PSS, respectively.',\n",
       " 'point spectra measured along a surface area of 10 µm2) presented in Figure 5a show clear symmetry alterations in the electronic structure of PEDOT:PSS upon cosolvent-induced doping.[14,51,54] An overview of the observed vibrational modes obtained by spectral deconvolu-tion can be found in Figure S9 and Table S5 (Supporting Infor-mation). Our results show a shift of the main aromatic-symmetric Cα Cβ[ O] (A-band) stretching mode from 1420 to 1429 cm−1 upon the addition of sorbitol and a subsequent increase of the split quinoid-symmetric Cα Cβ[ O] stretching band (Q-band; shoulder in Figure 5a) by a factor of ≈2.6 according to a curve fitting analysis and in agreement with the occurrence of doping. Given the considerations of the MD simulations, both Raman spectroscopy and MD simulations together suggest that addi-tion of sorbitol stimulates segregation of PEDOT from PSS poly-meric sections. Driven by a strong PSS-to-sorbitol H-bonding formation rate, this segregation will translate into PEDOT-rich and PSS-rich domains. While segregating, it is plausible that the overall enhanced molecular alignment will increase the prox-imity between undoped PEDOT and PSS monomeric units. Hence, the ionic interactions between PEDOT and PSS will increase in frequency leading to the observed evolution of the quinoid-doped chemical structure of the PEDOT monomer.',\n",
       " 'Using confocal scanning Raman microscopy, it is possible to gain depth-resolved information on the ratio of the A- and Q- bands and thus draw a profile of the degree of doping across the PEDOT:PSS–sorbitol layer. By gradually moving the focus of the excitation laser throughout the sample, we were able to resolve individual planes at a micrometer level resolution. Figure 5b,c shows depth-resolved mappings of the absolute Raman intensity ratio between the A-band and the Q-band for a TCA and a pristine PEDOT:PSS film, respectively. This rep-resentation clearly unveils a doping gradient toward the film surface, induced by d-sorbitol, in the case of the TCA. Such a gradient is not observed in the case of bare PEDOT:PSS. When implemented in the perovskite/silicon tandem, the top of the TCA will be in direct contact with PEI (perovskite side). We propose that the presence of d-sorbitol at the top promotes the necessary mechanical adhesion for achieving good electrical contact, a requirement toward an effective interconnection layer. We note that the evolution of the overall photovoltaic per-formance shown in Figure 2b is directly linked to the optimiza-tion of the processing of the TCA film, which is detailed in the Supporting Information.',\n",
       " 'To confirm the conformational gradient observed with reso-nance Raman spectroscopy, we analyzed the top and bottom of thin film samples of TCA and PEDOT:PSS using grazing-incidence wide angle X-ray scattering (GIWAXS).[55] GIWAXS is particularly suitable because it provides information on the microstructure of thin films with limited scattering depth. The scattering depth at the highest measured outgoing angle was cal-culated to be ≈2.4 and ≈2.2 µm for PEDOT:PSS and TCA, respec-tively. In order to probe the bottom side, prethermally treated films of ≈8 µm thickness were transferred upside down onto single crystalline silicon substrates. Figure 6 (see also Table S6, Sup-porting Information) shows the radial integrated scattered inten-sity signal extracted from GIWAXS scans (Figure S10, Supporting Information) of pristine PEDOT:PSS and d-PEDOT:PSS. As a reference, Figure 6a depicts the characteristic π–π stacking peaks of PSS (Q = 12.3 nm−1) and PEDOT (Q = 17.8 nm−1),[18,19,47,56,57]',\n",
       " 'Figure 6.  a–c) Radial integrated GIWAXS diffractograms of pristine PEDOT:PSS (2.4 µm scattering depth), bare TCA-top and TCA-bottom (both 2.2 µm scattering depth), respectively. The blue solid line corre-sponds to the experimental value and the orange solid lines correspond to the addition of all the fit peaks. d) Fitted corresponding peaks for π–π PSS (left peak) and π–π PEDOT (right peak) for each sample. All data are corrected for measurement time and intensity fluctuations of the primary X-ray beam.',\n",
       " 'while Figure 6d compares those signals for d-PEDOT:PSS films probed from the top (Figure 6b) and the bottom (Figure 6c) after Gaussian deconvolution of the scattering signals (see the Supporting Information for details). Importantly, the intensity of both π–π stacking peaks is higher when probed from the top (Figure 6d). The PEDOT π–π stacking intensity is, however, sig-nificantly higher than the PSS π–π stacking intensity. From the MD simulations, we know that d-sorbitol favors the stacking of PEDOT (Figure 4c). There is thus a direct link between the compo-sitional gradient observed with scanning Raman microscopy and the conformational gradient probed with GIWAXS, with accumu-lated d-sorbitol inducing a higher degree of molecular orientation of PEDOT chains (or an increasing number of crystalline aggre-gates) when approaching the top of the TCA film. Conversely,',\n",
       " 'when comparing the PEDOT scattering peak centers of \\xadTCA-top and TCA-bottom, we did not observe any significant change in terms of π-stacking distances or peak width: Q (TCA-bottom) ≈ 1.79 Å−1 (3.51 Å stacking distance) and Q (TCA-top) ≈ 1.80 Å−1 (3.49 Å stacking distance). The latter entails the existence of crys-talline aggregates comparable in size and packing distance across the TCA. Additionally, both TCA-top and TCA\\xad-bottom showed an average ≈30% narrower width, as compared with the pristine PEDOT:PSS, indicating on average a higher degree of PEDOT ordering upon addition of sorbitol.',\n",
       " 'Overall, the implication of a conformational gradient across the TCA film can be ascribed to a macroscopic diffusion of sorbitol toward the top interface. A more doped top–TCA interface is likely to improve mechanical adhesion followed by enhanced physical adsorption, thus, forming an electrical contact with low interconnection losses in laminated hybrid perovskite/silicon tandem solar cells, as demonstrated through a high fill factor and overall high photovoltaic performance.',\n",
       " 'We developed an innovative manufacturing alternative for the fabrication of perovskite/silicon monolithic tandem solar cells based on the lamination of individual subcells. A PEDOT:PSS-assisted transparent-conductive adhesive composite was utilized, for the first time, as interconnection layer, yielding devices with fill factors of up to 80.4% and steady-state efficiencies of up to 21.0%. The fill factor of our monolithic tandem exceeds state-of-the-art technologies based on much more elaborate fabrication protocols. Given the simplicity of our fabrication protocol and the possibility of designing subcells independently, we anticipate that a similar approach could be utilized to realize other hetero-junction tandem structures, for instance, by exploring semi-conductors and semiconducting blends with tunable bandgaps that could be matched with perovskite, silicon, copper indium gallium selenide solar cell (CIGS), and other semiconductors. This versatility was demonstrated here by realizing a perovskite/ organic tandem, in which the organic subcell was deposited using doctor blading on plastic substrates, thus allowing us to showcase and extrapolate potential industrial applications.',\n",
       " 'An important aspect of this work relies in the molecular understanding of the functionality of d-sorbitol-doped PEDOT-PSS. d-sorbitol interacts mainly with PSS via hydrogen bonds to indirectly enhance the orientation of PEDOT chains (conformational doping). This happens predominantly at the top of the d-PEDOT-PSS layer—the junction between both subcells—because d-sorbitol tends to diffuse toward the sur-face to induce π–π stacking of PEDOT. This phenomenon is likely to dominate the necessary mechanical adhesion for good electrical contact.',\n",
       " 'While these results underscore the importance of trans-parent conductive adhesives for the fabrication of photo-voltaic tandem structures, it also paves the way for new science to be explored in connection with the nature of the electrical contact at the interface of the interconnection layer. Specifically, future work will have to provide a fundamental understanding of how molecular interactions at the interface relate to the electronic performance of the interconnection',\n",
       " 'layer and the full device. We believe that such understanding will further advance the performance of transparent conduc-tive adhesives based on PEDOT:PSS, not only for the field of photovoltaics but also across many other applications where benign, water processable materials with advanced function-ality play a critical role.',\n",
       " 'Materials and Solutions: Unless stated otherwise, all materials were used as received and were purchased by Merck or Aldrich. CH3NH3I was purchased from Dyenamo. PEDOT:PSS PH1000 and sorbitol were acquired from Heraeus and Sigma-Aldrich, respectively. A 40 wt% blend of PEDOT:PSS and sorbitol was stirred overnight at 60 °C. PTAA polymeric material was purchased from Lumtec. A 3 mg mL−1 solution in chlorobenzene was stirred at 60 °C overnight. A 12 wt% of CuSCN in diethyl sulfide was stirred at room temperature overnight. ZnO:Al nanoparticles dispersion was provided by Avantama; anhydrous solvents and short exposures to air were used during its preparation. Branched PEI solution (50% in H2O) was purchased from Sigma-Aldrich. PbI2 and CH3NH3I were mixed with mole ratio of 1:1 with concentration of ≈40 wt% mixture of DMF and DMSO (2:1 v/v). The precursor was stirred at 60 °C for 20 min and subsequently filtered while still warm. Prior to utilization, the precursor solution was stored in the dark for at least 24 h.',\n",
       " 'Perovskite Device Fabrication: For the perovskite, subcell fabrication, laser patterned ITO (with a roughness of 5–7 nm RMS) substrates were ultrasonic bath cleaned using acetone and isopropanol for 10 min each followed by an oxygen plasma cleaning process. The cleaned substrate was then coated with a PTAA layer by means of spin-coating at a speed of 3000 rpm and annealed at 120 °C for 15 min. The CuSCN solution was spin-coated at 3000 rpm and annealed at 110 °C for 10 min. The perovskite deposition was performed by spin-casting ≈90 µL of the precursor on the selective contact layer at various speeds. Right after deposition, the wet film was partially dried with a moderately strong nitrogen stream within 10 s. The partially dry perovskite film was annealed at 110 °C for 10 min. After perovskite deposition, a compact ≈60 nm thick layer of PC60BM was spin-coated. A 2 wt% solution of PC60BM in chlorobenzene was then deposited using a three-step speed profile with no subsequent annealing. The ZnO:Al film was spin-coated at 2000 rpm and annealed during 5 min at 80 °C. PEI was spin-coated at 1000 rpm and annealed at 80 °C. For the opaque devices, the counter electrode was deposited through a shadow mask by thermal evaporation under a vacuum of 10−6 Torr. The device area for the opaque perovskite-based devices is 10.4 mm2.',\n",
       " 'Silicon Device Fabrication: The silicon heterojunction solar cells were processed using 3 Ω cm n-type (100) silicon wafers, which were RCA cleaned. An HF dip (2 min, 1%) was performed before each amorphous silicon deposition. Intrinsic and doped amorphous silicon layers were deposited using RF (13.56 MHz) plasma enhanced chemical vapor deposition with silane and hydrogen. Additionally, diborane and phosphine were used for p- and n-type doping, respectively. 5 nm thick intrinsic amorphous silicon layers were deposited at a temperature of 170 °C, a pressure of 1.5 mbar, with gas flows of 60 sccm silane and 135 sccm hydrogen, with an electrode distance of 12.7 mm and a plasma power density of 14 mW cm−2. Additionally, the intrinsic layer was treated with a hydrogen plasma at 170 °C, 1 mbar, for 90 s, with a hydrogen flow of 150 sccm at an electrode distance of 25 mm directly after deposition. 10 nm thick p-type doped amorphous silicon layers were deposited at a temperature of 170 °C, a pressure of 3 mbar, with gas flows of 60 sccm silane, 144 sccm hydrogen, and 48 sccm of diborane (1% in hydrogen), with an electrode distance of 19 mm and a plasma power density of 10.5 mW cm−2. 12 nm thick n-type doped amorphous silicon layers were deposited at a temperature of 210 °C, a pressure of 2 mbar, with gas flows of 40 sccm silane, 170 sccm hydrogen, and 8 sccm of phosphine (1% in hydrogen), with an electrode distance of 12.7 mm and a plasma power density of 14 mW cm−2. ITO layers were deposited using RF-sputtering from a ceramic target at a substrate',\n",
       " 'temperature of 50 °C, a pressure of 3 × 10−3 mbar, 0.2% oxygen in argon as sputter gas, and a RF power of 200 W. ITO layer thicknesses were about 43 nm for the front side layers and about 90 nm for the backside layers. The backside metal contact was formed by thermal evaporation of 10 nm titanium followed by 500 nm of silver.',\n",
       " 'ICL Deposition and Lamination: PEDOT:PSS–sorbitol blend along with AgNW ink were deposited through doctor blade. An ≈100 nm layer of AgNW was coated on top of the ITO electrode from the silicon cell. After drying the films for 3 min at 80 °C, the PEDOT:PSS–sorbitol blend (40 wt%) was deposited. ≈3 µm of the PEDOT:PSS–sorbitol blend was deposited on top of the AgNW. The resulting ICL-silicon subcell was then dried for 3 min at 120 °C. During the last 30 s, the perovskite subcells were preheated at 120 °C and immediately the subcells were pressed against each other for a short time.',\n",
       " 'Device Characterization: Current density–voltage (J–V) characterization under light was carried out by means of a Keithley 2400 source measure unit (SMU) and Newport Sol1A solar simulator with an AM1.5 G spectrum at 0.1 W cm−2, which was determined by a calibrated single-crystal standard Si cell. To avoid current contribution from adjacent pixels during the measurement, a shadowing mask was utilized for all J–V characterizations. J–V characterization was carried out as follows: forward direction, speed: 1 mV ms−1, and a dwell time of 8 ms. Opaque single-junction and tandem devices were initially tested with the aid of a maximum power point tracker based on a perturb-and-measure routine and/or uninterrupted current density sampling under initial Vmpp conditions. All reported J–V characterizations were obtained after efficiency stabilization for at least 1 min. To neglect any spectral mismatch, the lamp was calibrated according to the integrated photocurrent from the EQE measurements. External quantum efficiency spectra were recorded with an Enli Technology QE-R measurement system, also calibrated with a Si PV cell, data were averaged over 25 measurements for each point. In the case of the tandem devices, we isolated each subcell optoelectrically in order to obtain an EQE spectrum. To light bias the silicon subcell, we utilized an 850 nm laser diode. To light bias the perovskite subcell, a 450 nm laser line was utilized. ThorLabs provided both laser diodes. Optical absorption measurements were performed with a UV–vis spectrometer Lambda 950 from Perkin equipped with an integrating sphere.',\n",
       " 'Optical Simulation: Except for PTAA and CuSCN, all the optical constants were estimated as follows: Reflection (incidence angle of 8°) and transmission (normal to the sample) of the deposited layers were measured and implemented to the software NIKA[47] in order to obtain the wavelength-dependent complex refractive index. Furthermore, the ICL layer was treated as an effective medium in the framework of the TMF method. As such, optical constants were extracted from the software NIKA and the nominal thickness was verified by experimental measurements.',\n",
       " 'Hyperspectral Global Imaging: Hyperspectral imaging provides spectrally resolved images and can help identify and quantify inhomogeneities in a given sample. Photoluminescence hyperspectral data were acquired using Photon etc.’s IMA system. This system is based on Bragg tunable filters. This technology acquires monochromatic images of the entire field view. IMA consists of a hyperspectral filter coupled with a microscope. A beam shaping module is required to provide uniform global illumination over the entire field of view. A 532 nm laser is used to excite the sample and the signal is detected with a Si CCD camera. Photoluminescence images were acquired with a spectral resolution ≈ 2 nm and a spatial resolution ≈ 2 µm. A 50× objective was used to image an area of 135 µm × 180 µm with a fluence of 0.066 µW µm−2. PL images were acquired from 620 to 850 nm and the total acquisition time was less than 2 min. The isopotential created when using global illumination prevents charge diffusion toward the darker regions of the sample. Hence, global imaging allows carrying PL within the range of realistic operating mode of solar cells.',\n",
       " 'Raman spectroscopy: Raman spectra were acquired on a LabRam HR Evolution confocal Raman microscope (Horiba) equipped with an automated XYZ table using 0.80 NA objectives. All measurements were conducted using an excitation wavelength of 785 nm, with a grating of 1800 grooves/mm. The step sizes in the Raman mappings were in the',\n",
       " 'GIWAXS: Grazing incidence X-ray diffraction (GIXD) gives access to the in-plane and out-of-plane structure of crystalline thin films. The GIXD diffractograms were collected with the highly customized Versatile Advanced X-ray Scattering instrumenT ERlangen (VAXSTER) at the Institute for Crystallography and Structural Physics (FAU, Germany). The instrument is equipped with a 9.24 keV MetalJet D2 70 kV X-ray source (EXCILLUM, Sweden), a focusing 150 mm Montel optics (INCOATEC, Germany), and a fully evacuated beam path. Three of the available four double slits were used, with the last two double-slit systems being equipped with low scattering silicon slits (JJXray/ SAXSLAB, Denmark). Aperture sizes of the first two beam-shaping double-slit systems were 0.7 × 0.7 and 0.462 × 0.462 mm2, respectively. The last double-slit system was used for absorbing slit scattering and was set to 1.0 × 1.0 mm2. A 2D hybrid-pixel Pilatus 300K detector (Dectris, Switzerland) was used to collect the scattered radiation. The samples were mounted in vacuum on a yz-theta goniometer allowing to adjust grazing incidence angles, which maximizes the scattering volume and thus enhances the scattered intensity. The incidence angle was set to 0.17°, which is in between the critical angles of the PEDOT:PSS layer and the silicon substrates. This angle is used here to enhance the scattered intensity by maximization of the scattering sample volume and minimizing the background scattering from the substrate. The detector-to-sample distance (SDD) was calibrated with a silver behenate standard and was set to 173 mm for the measurements of nonflipped PEDOT:PSS + sorbitol, 175 mm for the measurements of pure sorbitol, and 178 mm for all other GIXD measurements. Data were reduced by radial integration using the software dpdak.[58]',\n",
       " 'The Cluster of Excellence funded this work through “Engineering of Advanced Materials” (EAM). The authors acknowledge financial support from the DFG research-training group GRK 1896 at Erlangen University and from the Joint Project Helmholtz-Institute Erlangen Nürnberg (HI-ERN) under Project No. DBF01253, respectively. C.J.B. acknowledges the financial support through the “Aufbruch Bayern” initiative of the state of Bavaria (EnCN and Solar Factory of the Future) and the “Solar Factory of the Future” with the Energy Campus Nürnberg (EnCN). S.L. acknowledges the Real Colegio Complutense in Harvard for a research grant, and to the Spanish Ministerio de Ciencia e Innovación for a fellowship through the Salvador de Madariaga Program. L.M.R. and A.A.-G. acknowledge support from Tata Sons Limited – Alliance Agreement (A32391). The computations in this paper were done on the Odyssey cluster supported by the FAS Division of Science, Research Computing Group at Harvard University, and on the Arran cluster supported by the Health Sciences Platform (HSP) at Tianjin University. C.O.R.Q. would like to acknowledge M. Möhrensen for his assistance in graphic design. Similarly, C.O.R.Q. would like to acknowledge Gebhard Matt and Ievgen Levchuk for helpful discussion. G.A. thanks support by the European Research Council (ERC Starting Grant 804110), the Spanish MINECO through the Excellence Unit María de Maeztu (MDM-2015-0538), the Generalitat Valenciana (CIDEGENT/2018/001), and the Deutsche Forschungsgemeinschaft (DFG; FLAG-ERA AB694/2-1). G.A. would like to acknowledge Vicent Lloret for his assistance with the experimental work. B. R., L.K., S.A., and G.C. acknowledge support from BMWi through the “PersiST” project (Grant No. 0324037C). S.A. acknowledges funding by the BMBF within the project “Materialforschung für die Energiewende” for his Young Investigator Group (Grant No. 03SF0540). T.A. gratefully acknowledges the financial support of the Solar Technologies go Hybrid',\n",
       " '(SolTech) and Bavarian Equal Opportunities Sponsorship – Förderung von Frauen in Forschung und Lehre (FFL). T.U. and M.B. gratefully acknowledge the funding of the German Federal Ministry of Education and Research (BMBF, Project No. 05K16WEB). C.O.R.Q. would like to gratefully acknowledge the financial support from The Mexican National Council for Science and Technology (CONACYT). C.O.R.Q. wrote the manuscript with comments from all coauthors and highlighted contributions from M.S. C.O.R.Q. coordinated and performed photovoltaic device fabrication. C.O.R.Q. coordinated all experiments, measurements, and simulations. G.D.S. assisted with the tandem lamination process. C.O.R.Q. and K.F. performed optical simulations. M.S., G.D.S., N.L., T.A., and A.A.-G. assisted with data interpretation, story layout design, and contributed ideas. C.O.R.Q., N.S., and E.S. contributed with the electron microscopy analysis. C.O.R.Q., M.B., and T.B. contributed with X-ray studies. C.O.R.Q., G.A., F.H., and A.H. contributed with Raman studies. L.-I.D.-B., and N.G. assisted with PL measurements. N.G. and A.C. assisted with FTPS and PL data analysis and interpretation. M.M., G.C., L.K., B.R., and S.A. provided silicon cells. QM/DFT calculations and analysis were performed by L.M.R. MD parametrization was done by S.L., and MD simulations were performed and analyzed by S.L. and J.D.P. C.J.B. supervised the project.']"
      ]
     },
     "execution_count": 6,
     "metadata": {},
     "output_type": "execute_result"
    }
   ],
   "source": [
    "doc_dict[doc_names[0]]"
   ]
  },
  {
   "cell_type": "markdown",
   "metadata": {},
   "source": [
    "## Manual parsing using parantheses "
   ]
  },
  {
   "cell_type": "code",
   "execution_count": 33,
   "metadata": {},
   "outputs": [
    {
     "ename": "SyntaxError",
     "evalue": "invalid syntax (<ipython-input-33-831865185e46>, line 5)",
     "output_type": "error",
     "traceback": [
      "\u001b[0;36m  File \u001b[0;32m\"<ipython-input-33-831865185e46>\"\u001b[0;36m, line \u001b[0;32m5\u001b[0m\n\u001b[0;31m    (NP (JJ Amorphous) (NN oxide) (NNS semiconductors))\u001b[0m\n\u001b[0m                    ^\u001b[0m\n\u001b[0;31mSyntaxError\u001b[0m\u001b[0;31m:\u001b[0m invalid syntax\n"
     ]
    }
   ],
   "source": [
    "# 0 sentence\n",
    "(S \n",
    " (NP \n",
    "  (NP \n",
    "   (NP (JJ Amorphous) (NN oxide) (NNS semiconductors)) \n",
    "   (JJ (AOSs)—ternary) \n",
    "   (CC or) \n",
    "   (JJ quaternary) \n",
    "   (NNS oxides)\n",
    "  ) \n",
    "  (PP (IN of) (NP (NP (NN post‐transition) (NNS metals)) \n",
    "               (PP (JJ such) (IN as) \n",
    "                (NNP In‐Sn‐O) (, ,) \n",
    "                (NNP Zn‐Sn‐O) (, ,) \n",
    "                (CC or) \n",
    "                (NP (NNP In‐Ga‐Zn‐O)) (, —)\n",
    "               )\n",
    "              )\n",
    "  )\n",
    " )\n",
    " \n",
    " (VP \n",
    "  (VP (VBP have) (VP (VBN been) (VP (VBN known) (PP (IN for) (NP (DT a) (NN decade)))))) \n",
    "  (CC and) \n",
    "  (VP \n",
    "   (VBP have) \n",
    "   (VP \n",
    "    (VBN attracted) \n",
    "    (NP (NP (DT a) (JJ great) (NN deal)) (PP (IN of) (NP (NN attention))))\n",
    "    (SBAR \n",
    "     (IN as) \n",
    "     (S \n",
    "      (NP (PRP they)) \n",
    "      (VP (VBP possess) \n",
    "       (NP \n",
    "        (NP (JJ several) (JJ technological) (NNS advantages)) (, ,) \n",
    "        (PP \n",
    "         (VBG including) \n",
    "         (NP (NP (NN low‐temperature)) (NN large‐area) (NN deposition)) (, ,) \n",
    "         (NP (JJ mechanical) (NN flexibility)) (, ,) \n",
    "         (NP (JJ smooth) (NNS surfaces)) (, ,) \n",
    "         (CC and) \n",
    "         (NP \n",
    "          (NP (JJ high) (NN carrier) (NN mobility)) \n",
    "          (SBAR \n",
    "           (WHNP (WDT that)) \n",
    "           (S \n",
    "            (VP \n",
    "             (VBZ is) \n",
    "             (ADJP \n",
    "              (ADJP \n",
    "               (NP (DT an) (NN order)) \n",
    "               (PP (IN of) (NP (NN magnitude))) \n",
    "               (ADJP (JJR larger))\n",
    "              ) \n",
    "              (PP \n",
    "               (IN than) \n",
    "               (NP \n",
    "                (NP (DT that)) \n",
    "                (PP \n",
    "                 (IN of) \n",
    "                 (NP \n",
    "                  (NP (JJ amorphous) (NN silicon)) \n",
    "                  (PRN \n",
    "                   (-LRB- -LRB-) \n",
    "                   (NP (JJ a‐Si) (. :) (NN H))\n",
    "                   (-RRB- -RRB-)\n",
    "                  )\n",
    "                 )\n",
    "                )\n",
    "               )\n",
    "              )\n",
    "             )\n",
    "            )\n",
    "           )\n",
    "          )\n",
    "         )\n",
    "        )\n",
    "       )\n",
    "      )\n",
    "     )\n",
    "    )\n",
    "   )\n",
    "  )\n",
    " ) \n",
    " (. .)\n",
    ")"
   ]
  },
  {
   "cell_type": "code",
   "execution_count": null,
   "metadata": {},
   "outputs": [],
   "source": [
    "# 1 sentence\n",
    "(S \n",
    " (PP (VBN Compared) (PP (TO to) (NP (PRP$ their) (JJ crystalline) (NNS counterparts)))) (, ,) \n",
    " (NP (NP (DT the) (NN structure)) (PP (IN of) (NP (NNP AOSs)))) \n",
    " (VP (VBZ is) \n",
    "  (ADJP (RB extremely) (JJ sensitive) \n",
    "               (PP (TO to) (NP \n",
    "                            (NP (NN deposition) (NNS conditions)) (, ,) \n",
    "                            (NP (NN stoichiometry)) (, ,) (CC and) \n",
    "                            (NP (NN composition))))) (, ,) \n",
    "  (S (VP (VBG giving) (NP (NN rise)) \n",
    "      (PP (TO to) (NP (NP (DT a) (JJ wide) (NN range)) \n",
    "                   (PP (IN of) \n",
    "                    (NP (JJ tunable) (ADJP (JJ optical) (CC and) (JJ electrical)) (NNS properties))\n",
    "                   )\n",
    "                  )\n",
    "      )\n",
    "     )\n",
    "  )\n",
    " ) \n",
    " (. .)\n",
    ")\n",
    "\n"
   ]
  },
  {
   "cell_type": "code",
   "execution_count": null,
   "metadata": {},
   "outputs": [],
   "source": []
  }
 ],
 "metadata": {
  "kernelspec": {
   "display_name": "Python 3",
   "language": "python",
   "name": "python3"
  },
  "language_info": {
   "codemirror_mode": {
    "name": "ipython",
    "version": 3
   },
   "file_extension": ".py",
   "mimetype": "text/x-python",
   "name": "python",
   "nbconvert_exporter": "python",
   "pygments_lexer": "ipython3",
   "version": "3.7.3"
  }
 },
 "nbformat": 4,
 "nbformat_minor": 2
}
